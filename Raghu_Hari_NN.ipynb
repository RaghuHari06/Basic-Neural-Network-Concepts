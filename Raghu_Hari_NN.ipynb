{
 "cells": [
  {
   "cell_type": "markdown",
   "metadata": {},
   "source": [
    "In this assignment, you'll implement an L-layered deep neural network and train it on the MNIST dataset. The MNIST dataset contains scanned images of handwritten digits, along with their correct classification labels (between 0-9). MNIST's name comes from the fact that it is a modified subset of two data sets collected by NIST, the United States' National Institute of Standards and Technology.<br>"
   ]
  },
  {
   "cell_type": "markdown",
   "metadata": {},
   "source": [
    "## Data Preparation"
   ]
  },
  {
   "cell_type": "code",
   "execution_count": 1,
   "metadata": {},
   "outputs": [],
   "source": [
    "import numpy as np\n",
    "import pickle\n",
    "import gzip\n",
    "import matplotlib.pyplot as plt\n",
    "import pandas as pd\n",
    "import numpy as np\n",
    "import matplotlib.pyplot as plt\n",
    "import h5py\n",
    "import sklearn\n",
    "import sklearn.datasets\n",
    "import scipy\n",
    "from PIL import Image\n",
    "from scipy import ndimage\n",
    "\n",
    "\n",
    "%matplotlib inline"
   ]
  },
  {
   "cell_type": "markdown",
   "metadata": {},
   "source": [
    "The MNIST dataset we use here is 'mnist.pkl.gz' which is divided into training, validation and test data. The following function <i> load_data() </i> unpacks the file and extracts the training, validation and test data."
   ]
  },
  {
   "cell_type": "code",
   "execution_count": 2,
   "metadata": {},
   "outputs": [],
   "source": [
    "def load_data():\n",
    "    f = gzip.open('mnist.pkl.gz', 'rb')\n",
    "    f.seek(0)\n",
    "    training_data, validation_data, test_data = pickle.load(f, encoding='latin1')\n",
    "    f.close()\n",
    "    return (training_data, validation_data, test_data)"
   ]
  },
  {
   "cell_type": "markdown",
   "metadata": {},
   "source": [
    "Let's see how the data looks:"
   ]
  },
  {
   "cell_type": "code",
   "execution_count": 3,
   "metadata": {},
   "outputs": [],
   "source": [
    "training_data, validation_data, test_data = load_data()"
   ]
  },
  {
   "cell_type": "code",
   "execution_count": 4,
   "metadata": {},
   "outputs": [
    {
     "data": {
      "text/plain": [
       "(array([[0., 0., 0., ..., 0., 0., 0.],\n",
       "        [0., 0., 0., ..., 0., 0., 0.],\n",
       "        [0., 0., 0., ..., 0., 0., 0.],\n",
       "        ...,\n",
       "        [0., 0., 0., ..., 0., 0., 0.],\n",
       "        [0., 0., 0., ..., 0., 0., 0.],\n",
       "        [0., 0., 0., ..., 0., 0., 0.]], dtype=float32),\n",
       " array([5, 0, 4, ..., 8, 4, 8]))"
      ]
     },
     "execution_count": 4,
     "metadata": {},
     "output_type": "execute_result"
    }
   ],
   "source": [
    "training_data"
   ]
  },
  {
   "cell_type": "code",
   "execution_count": 5,
   "metadata": {},
   "outputs": [
    {
     "name": "stdout",
     "output_type": "stream",
     "text": [
      "(50000, 784)\n",
      "(50000,)\n"
     ]
    }
   ],
   "source": [
    "# shape of data\n",
    "print(training_data[0].shape)\n",
    "print(training_data[1].shape)"
   ]
  },
  {
   "cell_type": "code",
   "execution_count": 6,
   "metadata": {},
   "outputs": [
    {
     "name": "stdout",
     "output_type": "stream",
     "text": [
      "The feature dataset is:[[0. 0. 0. ... 0. 0. 0.]\n",
      " [0. 0. 0. ... 0. 0. 0.]\n",
      " [0. 0. 0. ... 0. 0. 0.]\n",
      " ...\n",
      " [0. 0. 0. ... 0. 0. 0.]\n",
      " [0. 0. 0. ... 0. 0. 0.]\n",
      " [0. 0. 0. ... 0. 0. 0.]]\n",
      "The target dataset is:[5 0 4 ... 8 4 8]\n",
      "The number of examples in the training dataset is:50000\n",
      "The number of points in a single input is:784\n"
     ]
    }
   ],
   "source": [
    "print(\"The feature dataset is:\" + str(training_data[0]))\n",
    "print(\"The target dataset is:\" + str(training_data[1]))\n",
    "print(\"The number of examples in the training dataset is:\" + str(len(training_data[0])))\n",
    "print(\"The number of points in a single input is:\" + str(len(training_data[0][1])))"
   ]
  },
  {
   "cell_type": "markdown",
   "metadata": {},
   "source": [
    "Now, as discussed earlier in the lectures, the target variable is converted to a one hot matrix. We use the function <i> one_hot </i> to convert the target dataset to one hot encoding."
   ]
  },
  {
   "cell_type": "code",
   "execution_count": 7,
   "metadata": {},
   "outputs": [],
   "source": [
    "def one_hot(j):\n",
    "    # input is the target dataset of shape (m,) where m is the number of data points\n",
    "    # returns a 2 dimensional array of shape (10, m) where each target value is converted to a one hot encoding\n",
    "    # Look at the next block of code for a better understanding of one hot encoding\n",
    "    n = j.shape[0]\n",
    "    new_array = np.zeros((10, n))\n",
    "    index = 0\n",
    "    for res in j:\n",
    "        new_array[res][index] = 1.0\n",
    "        index = index + 1\n",
    "    return new_array"
   ]
  },
  {
   "cell_type": "code",
   "execution_count": 8,
   "metadata": {},
   "outputs": [
    {
     "name": "stdout",
     "output_type": "stream",
     "text": [
      "(10,)\n"
     ]
    },
    {
     "data": {
      "text/plain": [
       "array([[1., 0., 0., 0., 0., 0., 0., 0., 0., 0.],\n",
       "       [0., 1., 0., 0., 0., 0., 0., 0., 0., 0.],\n",
       "       [0., 0., 1., 0., 0., 0., 0., 0., 0., 0.],\n",
       "       [0., 0., 0., 1., 0., 0., 0., 0., 0., 0.],\n",
       "       [0., 0., 0., 0., 1., 0., 0., 0., 0., 0.],\n",
       "       [0., 0., 0., 0., 0., 1., 0., 0., 0., 0.],\n",
       "       [0., 0., 0., 0., 0., 0., 1., 0., 0., 0.],\n",
       "       [0., 0., 0., 0., 0., 0., 0., 1., 0., 0.],\n",
       "       [0., 0., 0., 0., 0., 0., 0., 0., 1., 0.],\n",
       "       [0., 0., 0., 0., 0., 0., 0., 0., 0., 1.]])"
      ]
     },
     "execution_count": 8,
     "metadata": {},
     "output_type": "execute_result"
    }
   ],
   "source": [
    "data = np.array([0, 1, 2, 3, 4, 5, 6, 7, 8, 9])\n",
    "print(data.shape)\n",
    "one_hot(data)"
   ]
  },
  {
   "cell_type": "markdown",
   "metadata": {},
   "source": [
    "The following function data_wrapper() will convert the dataset into the desired shape and also convert the ground truth labels to one_hot matrix."
   ]
  },
  {
   "cell_type": "code",
   "execution_count": 9,
   "metadata": {},
   "outputs": [],
   "source": [
    "def data_wrapper():\n",
    "    tr_d, va_d, te_d = load_data()\n",
    "    \n",
    "    training_inputs = np.array(tr_d[0][:]).T\n",
    "    training_results = np.array(tr_d[1][:])\n",
    "    train_set_y = one_hot(training_results)\n",
    "    \n",
    "    validation_inputs = np.array(va_d[0][:]).T\n",
    "    validation_results = np.array(va_d[1][:])\n",
    "    validation_set_y = one_hot(validation_results)\n",
    "    \n",
    "    test_inputs = np.array(te_d[0][:]).T\n",
    "    test_results = np.array(te_d[1][:])\n",
    "    test_set_y = one_hot(test_results)\n",
    "    \n",
    "    return (training_inputs, train_set_y, test_inputs, test_set_y)"
   ]
  },
  {
   "cell_type": "code",
   "execution_count": 10,
   "metadata": {},
   "outputs": [],
   "source": [
    "train_set_x, train_set_y, test_set_x, test_set_y = data_wrapper()"
   ]
  },
  {
   "cell_type": "code",
   "execution_count": 11,
   "metadata": {},
   "outputs": [
    {
     "name": "stdout",
     "output_type": "stream",
     "text": [
      "train_set_x shape: (784, 50000)\n",
      "train_set_y shape: (10, 50000)\n",
      "test_set_x shape: (784, 10000)\n",
      "test_set_y shape: (10, 10000)\n"
     ]
    }
   ],
   "source": [
    "print (\"train_set_x shape: \" + str(train_set_x.shape))\n",
    "print (\"train_set_y shape: \" + str(train_set_y.shape))\n",
    "print (\"test_set_x shape: \" + str(test_set_x.shape))\n",
    "print (\"test_set_y shape: \" + str(test_set_y.shape))"
   ]
  },
  {
   "cell_type": "markdown",
   "metadata": {},
   "source": [
    "We can see that the data_wrapper has converted the training and validation data into numpy array of desired shapes. Let's convert the actual labels into a dataframe to see if the one hot conversions are correct."
   ]
  },
  {
   "cell_type": "code",
   "execution_count": 12,
   "metadata": {},
   "outputs": [],
   "source": [
    "y = pd.DataFrame(train_set_y)"
   ]
  },
  {
   "cell_type": "code",
   "execution_count": 13,
   "metadata": {},
   "outputs": [
    {
     "name": "stdout",
     "output_type": "stream",
     "text": [
      "The target dataset is:[5 0 4 ... 8 4 8]\n",
      "The one hot encoding dataset is:\n"
     ]
    },
    {
     "data": {
      "text/html": [
       "<div>\n",
       "<style scoped>\n",
       "    .dataframe tbody tr th:only-of-type {\n",
       "        vertical-align: middle;\n",
       "    }\n",
       "\n",
       "    .dataframe tbody tr th {\n",
       "        vertical-align: top;\n",
       "    }\n",
       "\n",
       "    .dataframe thead th {\n",
       "        text-align: right;\n",
       "    }\n",
       "</style>\n",
       "<table border=\"1\" class=\"dataframe\">\n",
       "  <thead>\n",
       "    <tr style=\"text-align: right;\">\n",
       "      <th></th>\n",
       "      <th>0</th>\n",
       "      <th>1</th>\n",
       "      <th>2</th>\n",
       "      <th>3</th>\n",
       "      <th>4</th>\n",
       "      <th>5</th>\n",
       "      <th>6</th>\n",
       "      <th>7</th>\n",
       "      <th>8</th>\n",
       "      <th>9</th>\n",
       "      <th>...</th>\n",
       "      <th>49990</th>\n",
       "      <th>49991</th>\n",
       "      <th>49992</th>\n",
       "      <th>49993</th>\n",
       "      <th>49994</th>\n",
       "      <th>49995</th>\n",
       "      <th>49996</th>\n",
       "      <th>49997</th>\n",
       "      <th>49998</th>\n",
       "      <th>49999</th>\n",
       "    </tr>\n",
       "  </thead>\n",
       "  <tbody>\n",
       "    <tr>\n",
       "      <th>0</th>\n",
       "      <td>0.0</td>\n",
       "      <td>1.0</td>\n",
       "      <td>0.0</td>\n",
       "      <td>0.0</td>\n",
       "      <td>0.0</td>\n",
       "      <td>0.0</td>\n",
       "      <td>0.0</td>\n",
       "      <td>0.0</td>\n",
       "      <td>0.0</td>\n",
       "      <td>0.0</td>\n",
       "      <td>...</td>\n",
       "      <td>0.0</td>\n",
       "      <td>0.0</td>\n",
       "      <td>0.0</td>\n",
       "      <td>0.0</td>\n",
       "      <td>0.0</td>\n",
       "      <td>0.0</td>\n",
       "      <td>1.0</td>\n",
       "      <td>0.0</td>\n",
       "      <td>0.0</td>\n",
       "      <td>0.0</td>\n",
       "    </tr>\n",
       "    <tr>\n",
       "      <th>1</th>\n",
       "      <td>0.0</td>\n",
       "      <td>0.0</td>\n",
       "      <td>0.0</td>\n",
       "      <td>1.0</td>\n",
       "      <td>0.0</td>\n",
       "      <td>0.0</td>\n",
       "      <td>1.0</td>\n",
       "      <td>0.0</td>\n",
       "      <td>1.0</td>\n",
       "      <td>0.0</td>\n",
       "      <td>...</td>\n",
       "      <td>0.0</td>\n",
       "      <td>0.0</td>\n",
       "      <td>0.0</td>\n",
       "      <td>0.0</td>\n",
       "      <td>0.0</td>\n",
       "      <td>0.0</td>\n",
       "      <td>0.0</td>\n",
       "      <td>0.0</td>\n",
       "      <td>0.0</td>\n",
       "      <td>0.0</td>\n",
       "    </tr>\n",
       "    <tr>\n",
       "      <th>2</th>\n",
       "      <td>0.0</td>\n",
       "      <td>0.0</td>\n",
       "      <td>0.0</td>\n",
       "      <td>0.0</td>\n",
       "      <td>0.0</td>\n",
       "      <td>1.0</td>\n",
       "      <td>0.0</td>\n",
       "      <td>0.0</td>\n",
       "      <td>0.0</td>\n",
       "      <td>0.0</td>\n",
       "      <td>...</td>\n",
       "      <td>0.0</td>\n",
       "      <td>0.0</td>\n",
       "      <td>0.0</td>\n",
       "      <td>1.0</td>\n",
       "      <td>0.0</td>\n",
       "      <td>0.0</td>\n",
       "      <td>0.0</td>\n",
       "      <td>0.0</td>\n",
       "      <td>0.0</td>\n",
       "      <td>0.0</td>\n",
       "    </tr>\n",
       "    <tr>\n",
       "      <th>3</th>\n",
       "      <td>0.0</td>\n",
       "      <td>0.0</td>\n",
       "      <td>0.0</td>\n",
       "      <td>0.0</td>\n",
       "      <td>0.0</td>\n",
       "      <td>0.0</td>\n",
       "      <td>0.0</td>\n",
       "      <td>1.0</td>\n",
       "      <td>0.0</td>\n",
       "      <td>0.0</td>\n",
       "      <td>...</td>\n",
       "      <td>0.0</td>\n",
       "      <td>0.0</td>\n",
       "      <td>0.0</td>\n",
       "      <td>0.0</td>\n",
       "      <td>0.0</td>\n",
       "      <td>0.0</td>\n",
       "      <td>0.0</td>\n",
       "      <td>0.0</td>\n",
       "      <td>0.0</td>\n",
       "      <td>0.0</td>\n",
       "    </tr>\n",
       "    <tr>\n",
       "      <th>4</th>\n",
       "      <td>0.0</td>\n",
       "      <td>0.0</td>\n",
       "      <td>1.0</td>\n",
       "      <td>0.0</td>\n",
       "      <td>0.0</td>\n",
       "      <td>0.0</td>\n",
       "      <td>0.0</td>\n",
       "      <td>0.0</td>\n",
       "      <td>0.0</td>\n",
       "      <td>1.0</td>\n",
       "      <td>...</td>\n",
       "      <td>0.0</td>\n",
       "      <td>0.0</td>\n",
       "      <td>0.0</td>\n",
       "      <td>0.0</td>\n",
       "      <td>1.0</td>\n",
       "      <td>0.0</td>\n",
       "      <td>0.0</td>\n",
       "      <td>0.0</td>\n",
       "      <td>1.0</td>\n",
       "      <td>0.0</td>\n",
       "    </tr>\n",
       "    <tr>\n",
       "      <th>5</th>\n",
       "      <td>1.0</td>\n",
       "      <td>0.0</td>\n",
       "      <td>0.0</td>\n",
       "      <td>0.0</td>\n",
       "      <td>0.0</td>\n",
       "      <td>0.0</td>\n",
       "      <td>0.0</td>\n",
       "      <td>0.0</td>\n",
       "      <td>0.0</td>\n",
       "      <td>0.0</td>\n",
       "      <td>...</td>\n",
       "      <td>0.0</td>\n",
       "      <td>1.0</td>\n",
       "      <td>1.0</td>\n",
       "      <td>0.0</td>\n",
       "      <td>0.0</td>\n",
       "      <td>1.0</td>\n",
       "      <td>0.0</td>\n",
       "      <td>0.0</td>\n",
       "      <td>0.0</td>\n",
       "      <td>0.0</td>\n",
       "    </tr>\n",
       "    <tr>\n",
       "      <th>6</th>\n",
       "      <td>0.0</td>\n",
       "      <td>0.0</td>\n",
       "      <td>0.0</td>\n",
       "      <td>0.0</td>\n",
       "      <td>0.0</td>\n",
       "      <td>0.0</td>\n",
       "      <td>0.0</td>\n",
       "      <td>0.0</td>\n",
       "      <td>0.0</td>\n",
       "      <td>0.0</td>\n",
       "      <td>...</td>\n",
       "      <td>0.0</td>\n",
       "      <td>0.0</td>\n",
       "      <td>0.0</td>\n",
       "      <td>0.0</td>\n",
       "      <td>0.0</td>\n",
       "      <td>0.0</td>\n",
       "      <td>0.0</td>\n",
       "      <td>0.0</td>\n",
       "      <td>0.0</td>\n",
       "      <td>0.0</td>\n",
       "    </tr>\n",
       "    <tr>\n",
       "      <th>7</th>\n",
       "      <td>0.0</td>\n",
       "      <td>0.0</td>\n",
       "      <td>0.0</td>\n",
       "      <td>0.0</td>\n",
       "      <td>0.0</td>\n",
       "      <td>0.0</td>\n",
       "      <td>0.0</td>\n",
       "      <td>0.0</td>\n",
       "      <td>0.0</td>\n",
       "      <td>0.0</td>\n",
       "      <td>...</td>\n",
       "      <td>0.0</td>\n",
       "      <td>0.0</td>\n",
       "      <td>0.0</td>\n",
       "      <td>0.0</td>\n",
       "      <td>0.0</td>\n",
       "      <td>0.0</td>\n",
       "      <td>0.0</td>\n",
       "      <td>0.0</td>\n",
       "      <td>0.0</td>\n",
       "      <td>0.0</td>\n",
       "    </tr>\n",
       "    <tr>\n",
       "      <th>8</th>\n",
       "      <td>0.0</td>\n",
       "      <td>0.0</td>\n",
       "      <td>0.0</td>\n",
       "      <td>0.0</td>\n",
       "      <td>0.0</td>\n",
       "      <td>0.0</td>\n",
       "      <td>0.0</td>\n",
       "      <td>0.0</td>\n",
       "      <td>0.0</td>\n",
       "      <td>0.0</td>\n",
       "      <td>...</td>\n",
       "      <td>1.0</td>\n",
       "      <td>0.0</td>\n",
       "      <td>0.0</td>\n",
       "      <td>0.0</td>\n",
       "      <td>0.0</td>\n",
       "      <td>0.0</td>\n",
       "      <td>0.0</td>\n",
       "      <td>1.0</td>\n",
       "      <td>0.0</td>\n",
       "      <td>1.0</td>\n",
       "    </tr>\n",
       "    <tr>\n",
       "      <th>9</th>\n",
       "      <td>0.0</td>\n",
       "      <td>0.0</td>\n",
       "      <td>0.0</td>\n",
       "      <td>0.0</td>\n",
       "      <td>1.0</td>\n",
       "      <td>0.0</td>\n",
       "      <td>0.0</td>\n",
       "      <td>0.0</td>\n",
       "      <td>0.0</td>\n",
       "      <td>0.0</td>\n",
       "      <td>...</td>\n",
       "      <td>0.0</td>\n",
       "      <td>0.0</td>\n",
       "      <td>0.0</td>\n",
       "      <td>0.0</td>\n",
       "      <td>0.0</td>\n",
       "      <td>0.0</td>\n",
       "      <td>0.0</td>\n",
       "      <td>0.0</td>\n",
       "      <td>0.0</td>\n",
       "      <td>0.0</td>\n",
       "    </tr>\n",
       "  </tbody>\n",
       "</table>\n",
       "<p>10 rows × 50000 columns</p>\n",
       "</div>"
      ],
      "text/plain": [
       "   0      1      2      3      4      5      6      7      8      9      ...  \\\n",
       "0    0.0    1.0    0.0    0.0    0.0    0.0    0.0    0.0    0.0    0.0  ...   \n",
       "1    0.0    0.0    0.0    1.0    0.0    0.0    1.0    0.0    1.0    0.0  ...   \n",
       "2    0.0    0.0    0.0    0.0    0.0    1.0    0.0    0.0    0.0    0.0  ...   \n",
       "3    0.0    0.0    0.0    0.0    0.0    0.0    0.0    1.0    0.0    0.0  ...   \n",
       "4    0.0    0.0    1.0    0.0    0.0    0.0    0.0    0.0    0.0    1.0  ...   \n",
       "5    1.0    0.0    0.0    0.0    0.0    0.0    0.0    0.0    0.0    0.0  ...   \n",
       "6    0.0    0.0    0.0    0.0    0.0    0.0    0.0    0.0    0.0    0.0  ...   \n",
       "7    0.0    0.0    0.0    0.0    0.0    0.0    0.0    0.0    0.0    0.0  ...   \n",
       "8    0.0    0.0    0.0    0.0    0.0    0.0    0.0    0.0    0.0    0.0  ...   \n",
       "9    0.0    0.0    0.0    0.0    1.0    0.0    0.0    0.0    0.0    0.0  ...   \n",
       "\n",
       "   49990  49991  49992  49993  49994  49995  49996  49997  49998  49999  \n",
       "0    0.0    0.0    0.0    0.0    0.0    0.0    1.0    0.0    0.0    0.0  \n",
       "1    0.0    0.0    0.0    0.0    0.0    0.0    0.0    0.0    0.0    0.0  \n",
       "2    0.0    0.0    0.0    1.0    0.0    0.0    0.0    0.0    0.0    0.0  \n",
       "3    0.0    0.0    0.0    0.0    0.0    0.0    0.0    0.0    0.0    0.0  \n",
       "4    0.0    0.0    0.0    0.0    1.0    0.0    0.0    0.0    1.0    0.0  \n",
       "5    0.0    1.0    1.0    0.0    0.0    1.0    0.0    0.0    0.0    0.0  \n",
       "6    0.0    0.0    0.0    0.0    0.0    0.0    0.0    0.0    0.0    0.0  \n",
       "7    0.0    0.0    0.0    0.0    0.0    0.0    0.0    0.0    0.0    0.0  \n",
       "8    1.0    0.0    0.0    0.0    0.0    0.0    0.0    1.0    0.0    1.0  \n",
       "9    0.0    0.0    0.0    0.0    0.0    0.0    0.0    0.0    0.0    0.0  \n",
       "\n",
       "[10 rows x 50000 columns]"
      ]
     },
     "execution_count": 13,
     "metadata": {},
     "output_type": "execute_result"
    }
   ],
   "source": [
    "print(\"The target dataset is:\" + str(training_data[1]))\n",
    "print(\"The one hot encoding dataset is:\")\n",
    "y"
   ]
  },
  {
   "cell_type": "markdown",
   "metadata": {},
   "source": [
    "Now let us visualise the dataset. Feel free to change the index to see if the training data has been correctly tagged."
   ]
  },
  {
   "cell_type": "code",
   "execution_count": 14,
   "metadata": {},
   "outputs": [
    {
     "data": {
      "text/plain": [
       "<matplotlib.image.AxesImage at 0x7f5230333310>"
      ]
     },
     "execution_count": 14,
     "metadata": {},
     "output_type": "execute_result"
    },
    {
     "data": {
      "image/png": "[encoded data removed]",
      "text/plain": [
       "<Figure size 432x288 with 1 Axes>"
      ]
     },
     "metadata": {
      "needs_background": "light"
     },
     "output_type": "display_data"
    }
   ],
   "source": [
    "index  = 1000\n",
    "k = train_set_x[:,index]\n",
    "k = k.reshape((28, 28))\n",
    "plt.title('Label is {label}'.format(label= training_data[1][index]))\n",
    "plt.imshow(k, cmap='gray')"
   ]
  },
  {
   "cell_type": "markdown",
   "metadata": {},
   "source": [
    "# Feedforward"
   ]
  },
  {
   "cell_type": "markdown",
   "metadata": {},
   "source": [
    "### sigmoid\n",
    "This is one of the activation functions. It takes the cumulative input to the layer, the matrix **Z**, as the input. Upon application of the **`sigmoid`** function, the output matrix **H** is calculated. Also, **Z** is stored as the variable **sigmoid_memory** since it will be later used in backpropagation.You use _[np.exp()](https://docs.scipy.org/doc/numpy/reference/generated/numpy.exp.html)_ here in the following way. The exponential gets applied to all the elements of Z."
   ]
  },
  {
   "cell_type": "code",
   "execution_count": 15,
   "metadata": {},
   "outputs": [],
   "source": [
    "def sigmoid(Z):\n",
    "    \n",
    "    # Z is numpy array of shape (n, m) where n is number of neurons in the layer and m is the number of samples \n",
    "    # sigmoid_memory is stored as it is used later on in backpropagation\n",
    "    \n",
    "    H = 1/(1+np.exp(-Z))\n",
    "    sigmoid_memory = Z\n",
    "    \n",
    "    return H, sigmoid_memory"
   ]
  },
  {
   "cell_type": "code",
   "execution_count": 16,
   "metadata": {},
   "outputs": [
    {
     "name": "stdout",
     "output_type": "stream",
     "text": [
      "sigmoid(Z) = (array([[0.5       , 0.73105858],\n",
      "       [0.88079708, 0.95257413],\n",
      "       [0.98201379, 0.99330715],\n",
      "       [0.99752738, 0.99908895]]), array([[0, 1],\n",
      "       [2, 3],\n",
      "       [4, 5],\n",
      "       [6, 7]]))\n"
     ]
    }
   ],
   "source": [
    "Z = np.arange(8).reshape(4,2)\n",
    "print (\"sigmoid(Z) = \" + str(sigmoid(Z)))"
   ]
  },
  {
   "cell_type": "markdown",
   "metadata": {},
   "source": [
    "### relu\n",
    "This is one of the activation functions. It takes the cumulative input to the layer, matrix **Z** as the input. Upon application of the **`relu`** function, matrix **H** which is the output matrix is calculated. Also, **Z** is stored as **relu_memory** which will be later used in backpropagation. You use _[np.maximum()](https://docs.scipy.org/doc/numpy/reference/generated/numpy.maximum.html)_ here in the following way."
   ]
  },
  {
   "cell_type": "code",
   "execution_count": 17,
   "metadata": {},
   "outputs": [],
   "source": [
    "def relu(Z):\n",
    "    # Z is numpy array of shape (n, m) where n is number of neurons in the layer and m is the number of samples \n",
    "    # relu_memory is stored as it is used later on in backpropagation\n",
    "    \n",
    "    H = np.maximum(0,Z)\n",
    "    \n",
    "    assert(H.shape == Z.shape)\n",
    "    \n",
    "    relu_memory = Z \n",
    "    return H, relu_memory"
   ]
  },
  {
   "cell_type": "code",
   "execution_count": 18,
   "metadata": {},
   "outputs": [
    {
     "name": "stdout",
     "output_type": "stream",
     "text": [
      "relu(Z) = (array([[ 1,  3],\n",
      "       [ 0,  0],\n",
      "       [ 0,  7],\n",
      "       [ 9, 18]]), array([[ 1,  3],\n",
      "       [-1, -4],\n",
      "       [-5,  7],\n",
      "       [ 9, 18]]))\n"
     ]
    }
   ],
   "source": [
    "Z = np.array([1, 3, -1, -4, -5, 7, 9, 18]).reshape(4,2)\n",
    "print (\"relu(Z) = \" + str(relu(Z)))"
   ]
  },
  {
   "cell_type": "markdown",
   "metadata": {},
   "source": [
    "### softmax\n",
    "This is the activation of the last layer. It takes the cumulative input to the layer, matrix **Z** as the input. Upon application of the **`softmax`** function, the output matrix **H** is calculated. Also, **Z** is stored as **softmax_memory** which will be later used in backpropagation. You use _[np.exp()](https://docs.scipy.org/doc/numpy/reference/generated/numpy.exp.html)_ and _[np.sum()](https://docs.scipy.org/doc/numpy-1.10.0/reference/generated/numpy.sum.html)_ here in the following way. The exponential gets applied to all the elements of Z."
   ]
  },
  {
   "cell_type": "code",
   "execution_count": 19,
   "metadata": {},
   "outputs": [],
   "source": [
    "def softmax(Z):\n",
    "    # Z is numpy array of shape (n, m) where n is number of neurons in the layer and m is the number of samples \n",
    "    # softmax_memory is stored as it is used later on in backpropagation\n",
    "   \n",
    "    Z_exp = np.exp(Z)\n",
    "\n",
    "    Z_sum = np.sum(Z_exp,axis = 0, keepdims = True)\n",
    "    \n",
    "    H = Z_exp/Z_sum  #normalising step\n",
    "    softmax_memory = Z\n",
    "    \n",
    "    return H, softmax_memory"
   ]
  },
  {
   "cell_type": "code",
   "execution_count": 20,
   "metadata": {},
   "outputs": [],
   "source": [
    "Z = np.array([[11,19,10], [12, 21, 23]])"
   ]
  },
  {
   "cell_type": "code",
   "execution_count": 21,
   "metadata": {},
   "outputs": [
    {
     "name": "stdout",
     "output_type": "stream",
     "text": [
      "[[2.68941421e-01 1.19202922e-01 2.26032430e-06]\n",
      " [7.31058579e-01 8.80797078e-01 9.99997740e-01]]\n",
      "[[11 19 10]\n",
      " [12 21 23]]\n"
     ]
    }
   ],
   "source": [
    "#Z = np.array(np.arange(30)).reshape(10,3)\n",
    "H, softmax_memory = softmax(Z)\n",
    "print(H)\n",
    "print(softmax_memory)"
   ]
  },
  {
   "cell_type": "markdown",
   "metadata": {},
   "source": [
    "### initialize_parameters\n",
    "Let's now create a function **`initialize_parameters`** which initializes the weights and biases of the various layers. One way to initialise is to set all the parameters to 0. This is not a considered a good strategy as all the neurons will behave the same way and it'll defeat the purpose of deep networks. Hence, we initialize the weights randomly to very small values but not zeros. The biases are initialized to 0. Note that the **`initialize_parameters`** function initializes the parameters for all the layers in one `for` loop. \n",
    "\n",
    "The inputs to this function is a list named `dimensions`. The length of the list is the number layers in the network + 1 (the plus one is for the input layer, rest are hidden + output). The first element of this list is the dimensionality or length of the input (784 for the MNIST dataset). The rest of the list contains the number of neurons in the corresponding (hidden and output) layers.\n",
    "\n",
    "For example `dimensions = [784, 3, 7, 10]` specifies a network for the MNIST dataset with two hidden layers and a 10-dimensional softmax output.\n",
    "\n",
    "Also, notice that the parameters are returned in a dictionary. This will help you in implementing the feedforward through the layer and the backprop throught the layer at once."
   ]
  },
  {
   "cell_type": "code",
   "execution_count": 22,
   "metadata": {},
   "outputs": [],
   "source": [
    "def initialize_parameters(dimensions):\n",
    "\n",
    "    # dimensions is a list containing the number of neuron in each layer in the network\n",
    "    # It returns parameters which is a python dictionary containing the parameters \"W1\", \"b1\", ..., \"WL\", \"bL\":\n",
    "\n",
    "    np.random.seed(2)\n",
    "    parameters = {}\n",
    "    L = len(dimensions)            # number of layers in the network + 1\n",
    "\n",
    "    for l in range(1, L): \n",
    "        parameters['W' + str(l)] = np.random.randn(dimensions[l], dimensions[l-1]) * 0.1\n",
    "        parameters['b' + str(l)] = np.zeros((dimensions[l], 1)) \n",
    "        \n",
    "        assert(parameters['W' + str(l)].shape == (dimensions[l], dimensions[l-1]))\n",
    "        assert(parameters['b' + str(l)].shape == (dimensions[l], 1))\n",
    "\n",
    "        \n",
    "    return parameters"
   ]
  },
  {
   "cell_type": "code",
   "execution_count": 23,
   "metadata": {
    "scrolled": true
   },
   "outputs": [
    {
     "name": "stdout",
     "output_type": "stream",
     "text": [
      "W1 = [[-0.04167578 -0.00562668 -0.21361961 ... -0.06168445  0.03213358\n",
      "  -0.09464469]\n",
      " [-0.05301394 -0.1259207   0.16775441 ... -0.03284246 -0.05623108\n",
      "   0.01179136]\n",
      " [ 0.07386378 -0.15872956  0.01532001 ... -0.08428557  0.10040469\n",
      "   0.00545832]]\n",
      "b1 = [[0.]\n",
      " [0.]\n",
      " [0.]]\n",
      "W2 = [[ 0.06650944 -0.19626047  0.2112715 ]\n",
      " [-0.28074571 -0.13967752  0.02641189]\n",
      " [ 0.10925169  0.06646016  0.08565535]\n",
      " [-0.11058228  0.03715795  0.13440124]\n",
      " [-0.16421272 -0.1153127   0.02013163]\n",
      " [ 0.13985659  0.07228733 -0.10717236]\n",
      " [-0.05673344 -0.03663499 -0.15460347]]\n",
      "b2 = [[0.]\n",
      " [0.]\n",
      " [0.]\n",
      " [0.]\n",
      " [0.]\n",
      " [0.]\n",
      " [0.]]\n"
     ]
    }
   ],
   "source": [
    "dimensions  = [784, 3,7,10]\n",
    "parameters = initialize_parameters(dimensions)\n",
    "print(\"W1 = \" + str(parameters[\"W1\"]))\n",
    "print(\"b1 = \" + str(parameters[\"b1\"]))\n",
    "print(\"W2 = \" + str(parameters[\"W2\"]))\n",
    "print(\"b2 = \" + str(parameters[\"b2\"]))\n",
    "# print(\"W3 = \" + str(parameters[\"W3\"]))\n",
    "# print(\"b3 = \" + str(parameters[\"b3\"]))"
   ]
  },
  {
   "cell_type": "markdown",
   "metadata": {},
   "source": [
    "### layer_forward\n",
    "\n",
    "The function **`layer_forward`** implements the forward propagation for a certain layer 'l'. It calculates the cumulative input into the layer **Z** and uses it to calculate the output of the layer **H**. It takes **H_prev, W, b and the activation function** as inputs and stores the **linear_memory, activation_memory** in the variable **memory** which will be used later in backpropagation. \n",
    "\n",
    "<br> You have to first calculate the **Z**(using the forward propagation equation), **linear_memory**(H_prev, W, b) and then calculate **H, activation_memory**(Z) by applying activation functions - **`sigmoid`**, **`relu`** and **`softmax`** on **Z**.\n",
    "\n",
    "<br> Note that $$H^{L-1}$$ is referred here as H_prev. You might want to use _[np.dot()](https://docs.scipy.org/doc/numpy/reference/generated/numpy.dot.html)_ to carry out the matrix multiplication."
   ]
  },
  {
   "cell_type": "code",
   "execution_count": 24,
   "metadata": {},
   "outputs": [],
   "source": [
    "#Graded\n",
    "\n",
    "def layer_forward(H_prev, W, b, activation = 'relu'):\n",
    "\n",
    "    # H_prev is of shape (size of previous layer, number of examples)\n",
    "    # W is weights matrix of shape (size of current layer, size of previous layer)\n",
    "    # b is bias vector of shape (size of the current layer, 1)\n",
    "    # activation is the activation to be used for forward propagation : \"softmax\", \"relu\", \"sigmoid\"\n",
    "\n",
    "    # H is the output of the activation function \n",
    "    # memory is a python dictionary containing \"linear_memory\" and \"activation_memory\"\n",
    "    \n",
    "    if activation == \"sigmoid\":\n",
    "        Z =  np.dot(W, H_prev)+b#write your code here\n",
    "        linear_memory = (H_prev, W, b)\n",
    "        H, activation_memory = sigmoid(Z)#write your code here\n",
    " \n",
    "    elif activation == \"softmax\":\n",
    "        Z =  np.dot(W, H_prev)+b#write your code here\n",
    "        linear_memory = (H_prev, W, b)\n",
    "        H, activation_memory =softmax(Z) #write your code here\n",
    "    \n",
    "    elif activation == \"relu\":\n",
    "        Z =  np.dot(W, H_prev)+b#write your code here\n",
    "        linear_memory = (H_prev, W, b)\n",
    "        H, activation_memory =relu(Z) #write your code here\n",
    "        \n",
    "    assert (H.shape == (W.shape[0], H_prev.shape[1]))\n",
    "    memory = (linear_memory, activation_memory)\n",
    "\n",
    "    return H, memory"
   ]
  },
  {
   "cell_type": "code",
   "execution_count": 25,
   "metadata": {},
   "outputs": [
    {
     "data": {
      "text/plain": [
       "array([[1.        , 1.        , 1.        , 1.        , 1.        ],\n",
       "       [0.99908895, 0.99330715, 0.99999969, 1.        , 0.99987661],\n",
       "       [0.73105858, 0.5       , 0.99330715, 0.9999546 , 0.88079708]])"
      ]
     },
     "execution_count": 25,
     "metadata": {},
     "output_type": "execute_result"
    }
   ],
   "source": [
    "# verify\n",
    "# l-1 has two neurons, l has three, m = 5\n",
    "# H_prev is (l-1, m)\n",
    "# W is (l, l-1)\n",
    "# b is (l, 1)\n",
    "# H should be (l, m)\n",
    "H_prev = np.array([[1,0, 5, 10, 2], [2, 5, 3, 10, 2]])\n",
    "W_sample = np.array([[10, 5], [2, 0], [1, 0]])\n",
    "b_sample = np.array([10, 5, 0]).reshape((3, 1))\n",
    "\n",
    "H = layer_forward(H_prev, W_sample, b_sample, activation=\"sigmoid\")[0]\n",
    "H"
   ]
  },
  {
   "cell_type": "markdown",
   "metadata": {},
   "source": [
    "You should get:<br>\n",
    "    array([[1.        , 1.        , 1.        , 1.        , 1.        ],<br>\n",
    "      [0.99908895, 0.99330715, 0.99999969, 1.        , 0.99987661],<br>\n",
    "       [0.73105858, 0.5       , 0.99330715, 0.9999546 , 0.88079708]])\n",
    "    "
   ]
  },
  {
   "cell_type": "markdown",
   "metadata": {},
   "source": [
    "### L_layer_forward\n",
    "**`L_layer_forward`** performs one forward pass through the whole network for all the training samples (note that we are feeding all training examples in one single batch). Use the **`layer_forward`** you have created above here to perform the feedforward for layers 1 to 'L-1' in the for loop with the activation **`relu`**. The last layer having a different activation **`softmax`** is calculated outside the loop. Notice that the **memory** is appended to **memories** for all the layers. These will be used in the backward order during backpropagation."
   ]
  },
  {
   "cell_type": "code",
   "execution_count": 26,
   "metadata": {},
   "outputs": [],
   "source": [
    "#Graded\n",
    "\n",
    "def L_layer_forward(X, parameters):\n",
    "\n",
    "    # X is input data of shape (input size, number of examples)\n",
    "    # parameters is output of initialize_parameters()\n",
    "    \n",
    "    # HL is the last layer's post-activation value\n",
    "    # memories is the list of memory containing (for a relu activation, for example):\n",
    "    # - every memory of relu forward (there are L-1 of them, indexed from 1 to L-1), \n",
    "    # - the memory of softmax forward (there is one, indexed L) \n",
    "\n",
    "    memories = []\n",
    "    H = X\n",
    "    L = len(parameters) // 2                  # number of layers in the neural network\n",
    "    \n",
    "    # Implement relu layer (L-1) times as the Lth layer is the softmax layer\n",
    "    for l in range(1, L):\n",
    "        H_prev = H\n",
    "        W_l = parameters['W'+str(l)]\n",
    "        b_l = parameters['b'+str(l)]\n",
    "        H, memory = layer_forward(H_prev, W_l , b_l , activation = 'relu') #write your code here\n",
    "        memories.append(memory)\n",
    "    \n",
    "    # Implement the final softmax layer\n",
    "    # HL here is the final prediction P as specified in the lectures\n",
    "    W_L = parameters['W'+str(L)]\n",
    "    b_L = parameters['b'+str(L)]\n",
    "    HL, memory = layer_forward(H, W_L, b_L, activation = 'softmax') #write your code here\n",
    "    \n",
    "    memories.append(memory)\n",
    "\n",
    "    assert(HL.shape == (10, X.shape[1]))\n",
    "            \n",
    "    return HL, memories"
   ]
  },
  {
   "cell_type": "code",
   "execution_count": 27,
   "metadata": {},
   "outputs": [
    {
     "name": "stdout",
     "output_type": "stream",
     "text": [
      "(784, 10)\n",
      "[[0.10106734 0.10045152 0.09927757 0.10216656 0.1       ]\n",
      " [0.10567625 0.10230873 0.10170271 0.11250099 0.1       ]\n",
      " [0.09824287 0.0992886  0.09967128 0.09609693 0.1       ]\n",
      " [0.10028288 0.10013048 0.09998149 0.10046076 0.1       ]\n",
      " [0.09883601 0.09953443 0.09931419 0.097355   0.1       ]\n",
      " [0.10668575 0.10270912 0.10180736 0.11483609 0.1       ]\n",
      " [0.09832513 0.09932275 0.09954792 0.09627089 0.1       ]\n",
      " [0.09747092 0.09896735 0.0995387  0.09447277 0.1       ]\n",
      " [0.09489069 0.09788255 0.09929998 0.08915178 0.1       ]\n",
      " [0.09852217 0.09940447 0.09985881 0.09668824 0.1       ]]\n"
     ]
    }
   ],
   "source": [
    "# verify\n",
    "# X is (784, 10)\n",
    "# parameters is a dict\n",
    "# HL should be (10, 10)\n",
    "x_sample = train_set_x[:, 10:20]\n",
    "print(x_sample.shape)\n",
    "HL = L_layer_forward(x_sample, parameters=parameters)[0]\n",
    "print(HL[:, :5])"
   ]
  },
  {
   "cell_type": "markdown",
   "metadata": {},
   "source": [
    "You should get:\n",
    "\n",
    "(784, 10)<br>\n",
    "[[0.10106734 0.10045152 0.09927757 0.10216656 0.1       ]<br>\n",
    " [0.10567625 0.10230873 0.10170271 0.11250099 0.1       ]<br>\n",
    " [0.09824287 0.0992886  0.09967128 0.09609693 0.1       ]<br>\n",
    " [0.10028288 0.10013048 0.09998149 0.10046076 0.1       ]<br>\n",
    " [0.09883601 0.09953443 0.09931419 0.097355   0.1       ]<br>\n",
    " [0.10668575 0.10270912 0.10180736 0.11483609 0.1       ]<br>\n",
    " [0.09832513 0.09932275 0.09954792 0.09627089 0.1       ]<br>\n",
    " [0.09747092 0.09896735 0.0995387  0.09447277 0.1       ]<br>\n",
    " [0.09489069 0.09788255 0.09929998 0.08915178 0.1       ]<br>\n",
    " [0.09852217 0.09940447 0.09985881 0.09668824 0.1       ]]"
   ]
  },
  {
   "cell_type": "markdown",
   "metadata": {},
   "source": [
    "# Loss\n",
    "\n",
    "### compute_loss\n",
    "The next step is to compute the loss function after every forward pass to keep checking whether it is decreasing with training.<br> **`compute_loss`** here calculates the cross-entropy loss. You may want to use _[np.log()](https://docs.scipy.org/doc/numpy/reference/generated/numpy.log.html)_, _[np.sum()](https://docs.scipy.org/doc/numpy/reference/generated/numpy.log.html)_, _[np.multiply()](https://docs.scipy.org/doc/numpy/reference/generated/numpy.multiply.html)_ here. Do not forget that it is the average loss across all the data points in the batch. It takes the output of the last layer **HL** and the ground truth label **Y** as input and returns the **loss**."
   ]
  },
  {
   "cell_type": "code",
   "execution_count": 28,
   "metadata": {},
   "outputs": [],
   "source": [
    "#Graded\n",
    "\n",
    "def compute_loss(HL, Y):\n",
    "\n",
    "\n",
    "    # HL is probability matrix of shape (10, number of examples)\n",
    "    # Y is true \"label\" vector shape (10, number of examples)\n",
    "\n",
    "    # loss is the cross-entropy loss\n",
    "\n",
    "    m = Y.shape[1]\n",
    "\n",
    "    loss = -(1.0/m) * np.sum(Y*np.log(HL)) #write your code here, use (1./m) and not (1/m)\n",
    "    \n",
    "    loss = np.squeeze(loss)      # To make sure that the loss's shape is what we expect (e.g. this turns [[17]] into 17).\n",
    "    assert(loss.shape == ())\n",
    "    \n",
    "    return loss"
   ]
  },
  {
   "cell_type": "code",
   "execution_count": 29,
   "metadata": {},
   "outputs": [
    {
     "name": "stdout",
     "output_type": "stream",
     "text": [
      "[[0.4359949  0.02592623 0.54966248 0.43532239 0.4203678 ]\n",
      " [0.33033482 0.20464863 0.61927097 0.29965467 0.26682728]\n",
      " [0.62113383 0.52914209 0.13457995 0.51357812 0.18443987]\n",
      " [0.78533515 0.85397529 0.49423684 0.84656149 0.07964548]\n",
      " [0.50524609 0.0652865  0.42812233 0.09653092 0.12715997]\n",
      " [0.59674531 0.226012   0.10694568 0.22030621 0.34982629]\n",
      " [0.46778748 0.20174323 0.64040673 0.48306984 0.50523672]\n",
      " [0.38689265 0.79363745 0.58000418 0.1622986  0.70075235]\n",
      " [0.96455108 0.50000836 0.88952006 0.34161365 0.56714413]\n",
      " [0.42754596 0.43674726 0.77655918 0.53560417 0.95374223]]\n",
      "[[0. 0. 0. 0. 0.]\n",
      " [0. 0. 0. 0. 1.]\n",
      " [0. 0. 0. 0. 0.]\n",
      " [1. 0. 1. 0. 0.]\n",
      " [0. 0. 0. 0. 0.]\n",
      " [0. 1. 0. 0. 0.]\n",
      " [0. 0. 0. 1. 0.]\n",
      " [0. 0. 0. 0. 0.]\n",
      " [0. 0. 0. 0. 0.]\n",
      " [0. 0. 0. 0. 0.]]\n",
      "0.8964600261334037\n"
     ]
    }
   ],
   "source": [
    "# sample\n",
    "# HL is (10, 5), Y is (10, 5)\n",
    "np.random.seed(2)\n",
    "HL_sample = np.random.rand(10,5)\n",
    "Y_sample = train_set_y[:, 10:15]\n",
    "print(HL_sample)\n",
    "print(Y_sample)\n",
    "\n",
    "print(compute_loss(HL_sample, Y_sample))"
   ]
  },
  {
   "cell_type": "markdown",
   "metadata": {},
   "source": [
    "You should get:<br>\n",
    "    \n",
    "[[0.4359949  0.02592623 0.54966248 0.43532239 0.4203678 ]<br>\n",
    " [0.33033482 0.20464863 0.61927097 0.29965467 0.26682728]<br>\n",
    " [0.62113383 0.52914209 0.13457995 0.51357812 0.18443987]<br>\n",
    " [0.78533515 0.85397529 0.49423684 0.84656149 0.07964548]<br>\n",
    " [0.50524609 0.0652865  0.42812233 0.09653092 0.12715997]<br>\n",
    " [0.59674531 0.226012   0.10694568 0.22030621 0.34982629]<br>\n",
    " [0.46778748 0.20174323 0.64040673 0.48306984 0.50523672]<br>\n",
    " [0.38689265 0.79363745 0.58000418 0.1622986  0.70075235]<br>\n",
    " [0.96455108 0.50000836 0.88952006 0.34161365 0.56714413]<br>\n",
    " [0.42754596 0.43674726 0.77655918 0.53560417 0.95374223]]<br>\n",
    "[[0. 0. 0. 0. 0.]<br>\n",
    " [0. 0. 0. 0. 1.]<br>\n",
    " [0. 0. 0. 0. 0.]<br>\n",
    " [1. 0. 1. 0. 0.]<br>\n",
    " [0. 0. 0. 0. 0.]<br>\n",
    " [0. 1. 0. 0. 0.]<br>\n",
    " [0. 0. 0. 1. 0.]<br>\n",
    " [0. 0. 0. 0. 0.]<br>\n",
    " [0. 0. 0. 0. 0.]<br>\n",
    " [0. 0. 0. 0. 0.]]<br>\n",
    "0.8964600261334037"
   ]
  },
  {
   "cell_type": "markdown",
   "metadata": {},
   "source": [
    "# Backpropagation\n",
    "Let's now get to the next step - backpropagation. Let's start with sigmoid_backward.\n",
    "\n",
    "### sigmoid-backward\n",
    "You might remember that we had created **`sigmoid`** function that calculated the activation for forward propagation. Now, we need the activation backward, which helps in calculating **dZ** from **dH**. Notice that it takes input **dH** and **sigmoid_memory** as input. **sigmoid_memory** is the **Z** which we had calculated during forward propagation. You use _[np.exp()](https://docs.scipy.org/doc/numpy/reference/generated/numpy.exp.html)_ here the following way."
   ]
  },
  {
   "cell_type": "code",
   "execution_count": 30,
   "metadata": {},
   "outputs": [],
   "source": [
    "def sigmoid_backward(dH, sigmoid_memory):\n",
    "    \n",
    "    # Implement the backpropagation of a sigmoid function\n",
    "    # dH is gradient of the sigmoid activated activation of shape same as H or Z in the same layer    \n",
    "    # sigmoid_memory is the memory stored in the sigmoid(Z) calculation\n",
    "    \n",
    "    Z = sigmoid_memory\n",
    "    \n",
    "    H = 1/(1+np.exp(-Z))\n",
    "    dZ = dH * H * (1-H)\n",
    "    \n",
    "    assert (dZ.shape == Z.shape)\n",
    "    \n",
    "    return dZ"
   ]
  },
  {
   "cell_type": "markdown",
   "metadata": {},
   "source": [
    "### relu-backward\n",
    "You might remember that we had created **`relu`** function that calculated the activation for forward propagation. Now, we need the activation backward, which helps in calculating **dZ** from **dH**. Notice that it takes input **dH** and **relu_memory** as input. **relu_memory** is the **Z** which we calculated uring forward propagation. "
   ]
  },
  {
   "cell_type": "code",
   "execution_count": 31,
   "metadata": {},
   "outputs": [],
   "source": [
    "def relu_backward(dH, relu_memory):\n",
    "    \n",
    "    # Implement the backpropagation of a relu function\n",
    "    # dH is gradient of the relu activated activation of shape same as H or Z in the same layer    \n",
    "    # relu_memory is the memory stored in the sigmoid(Z) calculation\n",
    "    \n",
    "    Z = relu_memory\n",
    "    dZ = np.array(dH, copy=True) # dZ will be the same as dA wherever the elements of A weren't 0\n",
    "    \n",
    "    dZ[Z <= 0] = 0\n",
    "    \n",
    "    assert (dZ.shape == Z.shape)\n",
    "    \n",
    "    return dZ"
   ]
  },
  {
   "cell_type": "markdown",
   "metadata": {},
   "source": [
    "### layer_backward\n",
    "\n",
    "**`layer_backward`** is a complimentary function of **`layer_forward`**. Like **`layer_forward`** calculates **H** using **W**, **H_prev** and **b**, **`layer_backward`** uses **dH** to calculate **dW**, **dH_prev** and **db**. You have already studied the formulae in backpropogation. To calculate **dZ**, use the **`sigmoid_backward`** and **`relu_backward`** function. You might need to use _[np.dot()](https://docs.scipy.org/doc/numpy/reference/generated/numpy.dot.html)_, _[np.sum()](https://docs.scipy.org/doc/numpy/reference/generated/numpy.sum.html)_ for the rest. Remember to choose the axis correctly in db. "
   ]
  },
  {
   "cell_type": "code",
   "execution_count": 32,
   "metadata": {},
   "outputs": [],
   "source": [
    "#Graded\n",
    "\n",
    "def layer_backward(dH, memory, activation = 'relu'):\n",
    "    \n",
    "    # takes dH and the memory calculated in layer_forward and activation as input to calculate the dH_prev, dW, db\n",
    "    # performs the backprop depending upon the activation function\n",
    "    \n",
    "\n",
    "    linear_memory, activation_memory = memory\n",
    "    \n",
    "    if activation == \"relu\":\n",
    "        dZ = relu_backward(dH, activation_memory)#write your code here\n",
    "        H_prev, W, b = linear_memory\n",
    "        m = H_prev.shape[1]\n",
    "        dW = (1.0/m) * np.matmul(dZ, H_prev.T)#write your code here, use (1./m) and not (1/m)\n",
    "        db = (1.0/m) * np.sum(dZ, axis=-1, keepdims=True) #write your code here, use (1./m) and not (1/m)\n",
    "        dH_prev = np.matmul(np.transpose(W), dZ) #write your code here\n",
    "        \n",
    "    elif activation == \"sigmoid\":\n",
    "        dZ = sigmoid_backward(dH, activation_memory)#write your code here\n",
    "        H_prev, W, b = linear_memory\n",
    "        m = H_prev.shape[1]\n",
    "        dW = (1.0/m) * np.matmul(dZ, H_prev.T)#write your code here, use (1./m) and not (1/m)\n",
    "        db = (1.0/m) * np.sum(dZ, axis=-1, keepdims=True)#write your code here, use (1./m) and not (1/m)\n",
    "        dH_prev =  np.matmul(np.transpose(W), dZ)#write your code here\n",
    "    \n",
    "    return dH_prev, dW, db"
   ]
  },
  {
   "cell_type": "code",
   "execution_count": 33,
   "metadata": {},
   "outputs": [
    {
     "name": "stdout",
     "output_type": "stream",
     "text": [
      "dH_prev is \n",
      " [[5.6417525  0.66855959 6.86974666 5.46611139 4.92177244]\n",
      " [2.17997451 0.12963116 2.74831239 2.17661196 2.10183901]]\n",
      "dW is \n",
      " [[1.67565336 1.56891359]\n",
      " [1.39137819 1.4143854 ]\n",
      " [1.3597389  1.43013369]]\n",
      "db is \n",
      " [[0.37345476]\n",
      " [0.34414727]\n",
      " [0.29074635]]\n"
     ]
    }
   ],
   "source": [
    "# verify\n",
    "# l-1 has two neurons, l has three, m = 5\n",
    "# H_prev is (l-1, m)\n",
    "# W is (l, l-1)\n",
    "# b is (l, 1)\n",
    "# H should be (l, m)\n",
    "H_prev = np.array([[1,0, 5, 10, 2], [2, 5, 3, 10, 2]])\n",
    "W_sample = np.array([[10, 5], [2, 0], [1, 0]])\n",
    "b_sample = np.array([10, 5, 0]).reshape((3, 1))\n",
    "\n",
    "H, memory = layer_forward(H_prev, W_sample, b_sample, activation=\"relu\")\n",
    "np.random.seed(2)\n",
    "dH = np.random.rand(3,5)\n",
    "dH_prev, dW, db = layer_backward(dH, memory, activation = 'relu')\n",
    "print('dH_prev is \\n' , dH_prev)\n",
    "print('dW is \\n' ,dW)\n",
    "print('db is \\n', db)"
   ]
  },
  {
   "cell_type": "markdown",
   "metadata": {},
   "source": [
    "You should get:<br>\n",
    "dH_prev is <br>\n",
    " [[5.6417525  0.66855959 6.86974666 5.46611139 4.92177244]<br>\n",
    " [2.17997451 0.12963116 2.74831239 2.17661196 2.10183901]]<br>\n",
    "dW is <br>\n",
    " [[1.67565336 1.56891359]<br>\n",
    " [1.39137819 1.4143854 ]<br>\n",
    " [1.3597389  1.43013369]]<br>\n",
    "db is <br>\n",
    " [[0.37345476]<br>\n",
    " [0.34414727]<br>\n",
    " [0.29074635]]<br>\n"
   ]
  },
  {
   "cell_type": "markdown",
   "metadata": {},
   "source": [
    "### L_layer_backward\n",
    "\n",
    "**`L_layer_backward`** performs backpropagation for the whole network. Recall that the backpropagation for the last layer, i.e. the softmax layer, is different from the rest, hence it is outside the reversed `for` loop. You need to use the function **`layer_backward`** here in the loop with the activation function as **`relu`**. "
   ]
  },
  {
   "cell_type": "code",
   "execution_count": 34,
   "metadata": {},
   "outputs": [],
   "source": [
    "#Graded\n",
    "\n",
    "def L_layer_backward(HL, Y, memories):\n",
    "    \n",
    "    # Takes the predicted value HL and the true target value Y and the \n",
    "    # memories calculated by L_layer_forward as input\n",
    "    \n",
    "    # returns the gradients calulated for all the layers as a dict\n",
    "\n",
    "    gradients = {}\n",
    "    L = len(memories) # the number of layers\n",
    "    m = HL.shape[1]\n",
    "    Y = Y.reshape(HL.shape) # after this line, Y is the same shape as AL\n",
    "    \n",
    "    # Perform the backprop for the last layer that is the softmax layer\n",
    "    current_memory = memories[-1]\n",
    "    linear_memory, activation_memory = current_memory\n",
    "    dZ = HL - Y\n",
    "    H_prev, W, b = linear_memory\n",
    "    # Use the expressions you have used in 'layer_backward'\n",
    "    gradients[\"dH\" + str(L-1)] = np.dot(np.transpose(W),dZ)#write your code here\n",
    "    gradients[\"dW\" + str(L)] = (1.0/m) * np.matmul(dZ, H_prev.T)#write your code here, use (1./m) and not (1/m)\n",
    "    gradients[\"db\" + str(L)] = (1.0/m) * np.sum(dZ, axis=-1, keepdims=True) #write your code here, use (1./m) and not (1/m)\n",
    "    \n",
    "    # Perform the backpropagation l-1 times\n",
    "    for l in reversed(range(L-1)):\n",
    "        # Lth layer gradients: \"gradients[\"dH\" + str(l + 1)] \", gradients[\"dW\" + str(l + 2)] , gradients[\"db\" + str(l + 2)]\n",
    "        current_memory = memories[l]\n",
    "        \n",
    "        dH_prev_temp, dW_temp, db_temp =layer_backward(gradients[\"dH\"+ str(l+1)] ,current_memory,activation=\"relu\") #write your code here\n",
    "        gradients[\"dH\" + str(l)] =  dH_prev_temp#write your code here\n",
    "        gradients[\"dW\" + str(l + 1)] = dW_temp#write your code here\n",
    "        gradients[\"db\" + str(l + 1)] = db_temp#write your code here\n",
    "\n",
    "\n",
    "    return gradients"
   ]
  },
  {
   "cell_type": "code",
   "execution_count": 35,
   "metadata": {},
   "outputs": [
    {
     "name": "stdout",
     "output_type": "stream",
     "text": [
      "dW3 is \n",
      " [[ 0.02003701  0.0019043   0.01011729  0.0145757   0.00146444  0.00059863\n",
      "   0.        ]\n",
      " [ 0.02154547  0.00203519  0.01085648  0.01567075  0.00156469  0.00060533\n",
      "   0.        ]\n",
      " [-0.01718407 -0.00273711 -0.00499101 -0.00912135 -0.00207365  0.00059996\n",
      "   0.        ]\n",
      " [-0.01141498 -0.00158622 -0.00607049 -0.00924709 -0.00119619  0.00060381\n",
      "   0.        ]\n",
      " [ 0.01943173  0.0018421   0.00984543  0.01416368  0.00141676  0.00059682\n",
      "   0.        ]\n",
      " [ 0.01045447  0.00063974  0.00637621  0.00863306  0.00050118  0.00060441\n",
      "   0.        ]\n",
      " [-0.06338911 -0.00747251 -0.0242169  -0.03835708 -0.00581131  0.0006034\n",
      "   0.        ]\n",
      " [ 0.01911373  0.001805    0.00703101  0.0120636   0.00138836 -0.00140535\n",
      "   0.        ]\n",
      " [-0.01801603  0.0017357  -0.01489228 -0.02026076  0.00133528  0.00060264\n",
      "   0.        ]\n",
      " [ 0.0194218   0.00183381  0.00594427  0.01187949  0.00141043 -0.00340965\n",
      "   0.        ]]\n",
      "db3 is \n",
      " [[ 0.10031756]\n",
      " [ 0.00460183]\n",
      " [-0.00142942]\n",
      " [-0.0997827 ]\n",
      " [ 0.09872663]\n",
      " [ 0.00536378]\n",
      " [-0.10124784]\n",
      " [-0.00191121]\n",
      " [-0.00359044]\n",
      " [-0.00104818]]\n",
      "dW2 is \n",
      " [[ 4.94428956e-05  1.13215514e-02  5.44180380e-02]\n",
      " [-4.81267081e-05 -2.96999448e-05 -1.81899582e-02]\n",
      " [ 5.63424333e-05  4.77190073e-03  4.04810232e-02]\n",
      " [ 1.49767478e-04 -1.89780927e-03 -7.91231369e-03]\n",
      " [ 1.97866094e-04  1.22107085e-04  2.64140566e-02]\n",
      " [ 0.00000000e+00 -3.75805770e-04  1.63906102e-05]\n",
      " [ 0.00000000e+00  0.00000000e+00  0.00000000e+00]]\n",
      "db2 is \n",
      " [[ 0.013979  ]\n",
      " [-0.01329383]\n",
      " [ 0.01275707]\n",
      " [-0.01052957]\n",
      " [ 0.03179224]\n",
      " [-0.00039877]\n",
      " [ 0.        ]]\n"
     ]
    }
   ],
   "source": [
    "# verify\n",
    "# X is (784, 10)\n",
    "# parameters is a dict\n",
    "# HL should be (10, 10)\n",
    "x_sample = train_set_x[:, 10:20]\n",
    "y_sample = train_set_y[:, 10:20]\n",
    "\n",
    "HL, memories = L_layer_forward(x_sample, parameters=parameters)\n",
    "gradients  = L_layer_backward(HL, y_sample, memories)\n",
    "print('dW3 is \\n', gradients['dW3'])\n",
    "print('db3 is \\n', gradients['db3'])\n",
    "print('dW2 is \\n', gradients['dW2'])\n",
    "print('db2 is \\n', gradients['db2'])"
   ]
  },
  {
   "cell_type": "markdown",
   "metadata": {},
   "source": [
    "You should get:<br>\n",
    "\n",
    "dW3 is <br>\n",
    " [[ 0.02003701  0.0019043   0.01011729  0.0145757   0.00146444  0.00059863  0.        ]<br>\n",
    " [ 0.02154547  0.00203519  0.01085648  0.01567075  0.00156469  0.00060533   0.        ]<br>\n",
    " [-0.01718407 -0.00273711 -0.00499101 -0.00912135 -0.00207365  0.00059996   0.        ]<br>\n",
    " [-0.01141498 -0.00158622 -0.00607049 -0.00924709 -0.00119619  0.00060381   0.        ]<br>\n",
    " [ 0.01943173  0.0018421   0.00984543  0.01416368  0.00141676  0.00059682   0.        ]<br>\n",
    " [ 0.01045447  0.00063974  0.00637621  0.00863306  0.00050118  0.00060441   0.        ]<br>\n",
    " [-0.06338911 -0.00747251 -0.0242169  -0.03835708 -0.00581131  0.0006034   0.        ]<br>\n",
    " [ 0.01911373  0.001805    0.00703101  0.0120636   0.00138836 -0.00140535   0.        ]<br>\n",
    " [-0.01801603  0.0017357  -0.01489228 -0.02026076  0.00133528  0.00060264   0.        ]<br>\n",
    " [ 0.0194218   0.00183381  0.00594427  0.01187949  0.00141043 -0.00340965    0.        ]]<br>\n",
    "db3 is <br>\n",
    " [[ 0.10031756]<br>\n",
    " [ 0.00460183]<br>\n",
    " [-0.00142942]<br>\n",
    " [-0.0997827 ]<br>\n",
    " [ 0.09872663]<br>\n",
    " [ 0.00536378]<br>\n",
    " [-0.10124784]<br>\n",
    " [-0.00191121]<br>\n",
    " [-0.00359044]<br>\n",
    " [-0.00104818]]<br>\n",
    "dW2 is <br>\n",
    " [[ 4.94428956e-05  1.13215514e-02  5.44180380e-02]<br>\n",
    " [-4.81267081e-05 -2.96999448e-05 -1.81899582e-02]<br>\n",
    " [ 5.63424333e-05  4.77190073e-03  4.04810232e-02]<br>\n",
    " [ 1.49767478e-04 -1.89780927e-03 -7.91231369e-03]<br>\n",
    " [ 1.97866094e-04  1.22107085e-04  2.64140566e-02]<br>\n",
    " [ 0.00000000e+00 -3.75805770e-04  1.63906102e-05]<br>\n",
    " [ 0.00000000e+00  0.00000000e+00  0.00000000e+00]]<br>\n",
    "db2 is <br>\n",
    " [[ 0.013979  ]<br>\n",
    " [-0.01329383]<br>\n",
    " [ 0.01275707]<br>\n",
    " [-0.01052957]<br>\n",
    " [ 0.03179224]<br>\n",
    " [-0.00039877]<br>\n",
    " [ 0.        ]]<br>"
   ]
  },
  {
   "cell_type": "markdown",
   "metadata": {},
   "source": [
    "# Parameter Updates\n",
    "\n",
    "Now that we have calculated the gradients. let's do the last step which is updating the weights and biases."
   ]
  },
  {
   "cell_type": "code",
   "execution_count": 36,
   "metadata": {},
   "outputs": [],
   "source": [
    "#Graded\n",
    "\n",
    "def update_parameters(parameters, gradients, learning_rate):\n",
    "\n",
    "    # parameters is the python dictionary containing the parameters W and b for all the layers\n",
    "    # gradients is the python dictionary containing your gradients, output of L_model_backward\n",
    "    \n",
    "    # returns updated weights after applying the gradient descent update\n",
    "\n",
    "    \n",
    "    L = len(parameters) // 2 # number of layers in the neural network\n",
    "\n",
    "    for l in range(L):\n",
    "        parameters[\"W\" + str(l+1)] = parameters[\"W\" + str(l+1)] - learning_rate*gradients[\"dW\" + str(l + 1)] #write your code here\n",
    "        parameters[\"b\" + str(l+1)] = parameters[\"b\" + str(l+1)] - learning_rate*gradients[\"db\" + str(l + 1)]#write your code here\n",
    "\n",
    "        \n",
    "    return parameters"
   ]
  },
  {
   "cell_type": "markdown",
   "metadata": {},
   "source": [
    "Having defined the bits and pieces of the feedforward and the backpropagation, let's now combine all that to form a model. The list `dimensions` has the number of neurons in each layer specified in it. For a neural network with 1 hidden layer with 45 neurons, you would specify the dimensions as follows:"
   ]
  },
  {
   "cell_type": "code",
   "execution_count": 37,
   "metadata": {},
   "outputs": [],
   "source": [
    "dimensions = [784, 45, 10] #  three-layer model"
   ]
  },
  {
   "cell_type": "markdown",
   "metadata": {},
   "source": [
    "# Model\n",
    "\n",
    "### L_layer_model\n",
    "\n",
    "This is a composite function which takes the training data as input **X**, ground truth label **Y**, the **dimensions** as stated above, **learning_rate**, the number of iterations **num_iterations** and if you want to print the loss, **print_loss**. You need to use the final functions we have written for feedforward, computing the loss, backpropagation and updating the parameters."
   ]
  },
  {
   "cell_type": "code",
   "execution_count": 38,
   "metadata": {},
   "outputs": [],
   "source": [
    "#Graded\n",
    "\n",
    "def L_layer_model(X, Y, dimensions, learning_rate = 0.0075, num_iterations = 3000, print_loss=False):\n",
    "    \n",
    "    # X and Y are the input training datasets\n",
    "    # learning_rate, num_iterations are gradient descent optimization parameters\n",
    "    # returns updated parameters\n",
    "\n",
    "    np.random.seed(2)\n",
    "    losses = []                         # keep track of loss\n",
    "    \n",
    "    # Parameters initialization\n",
    "    parameters =  initialize_parameters(dimensions)#write your code here\n",
    " \n",
    "    for i in range(0, num_iterations):\n",
    "\n",
    "        # Forward propagation\n",
    "        HL, memories =  L_layer_forward(X, parameters)#write your code here\n",
    "        \n",
    "        # Compute loss\n",
    "        loss = compute_loss(HL, Y)#write your code here\n",
    "    \n",
    "        # Backward propagation\n",
    "        gradients = L_layer_backward(HL,Y, memories) #write your code here\n",
    " \n",
    "        # Update parameters.\n",
    "        parameters = update_parameters(parameters, gradients, learning_rate)#write your code here\n",
    "                \n",
    "        # Printing the loss every 100 training example\n",
    "        if print_loss and i % 100 == 0:\n",
    "            print (\"Loss after iteration %i: %f\" %(i, loss))\n",
    "            losses.append(loss)\n",
    "            \n",
    "    # plotting the loss\n",
    "    plt.plot(np.squeeze(losses))\n",
    "    plt.ylabel('loss')\n",
    "    plt.xlabel('iterations (per tens)')\n",
    "    plt.title(\"Learning rate =\" + str(learning_rate))\n",
    "    plt.show()\n",
    "    \n",
    "    return parameters"
   ]
  },
  {
   "cell_type": "markdown",
   "metadata": {},
   "source": [
    "Since, it'll take a lot of time to train the model on 50,000 data points, we take a subset of 5,000 images."
   ]
  },
  {
   "cell_type": "code",
   "execution_count": 39,
   "metadata": {},
   "outputs": [
    {
     "data": {
      "text/plain": [
       "(784, 5000)"
      ]
     },
     "execution_count": 39,
     "metadata": {},
     "output_type": "execute_result"
    }
   ],
   "source": [
    "train_set_x_new = train_set_x[:,0:5000]\n",
    "train_set_y_new = train_set_y[:,0:5000]\n",
    "train_set_x_new.shape"
   ]
  },
  {
   "cell_type": "markdown",
   "metadata": {},
   "source": [
    "Now, let's call the function L_layer_model on the dataset we have created.This will take 10-20 mins to run."
   ]
  },
  {
   "cell_type": "code",
   "execution_count": 40,
   "metadata": {},
   "outputs": [
    {
     "name": "stdout",
     "output_type": "stream",
     "text": [
      "Loss after iteration 0: 2.422624\n",
      "Loss after iteration 100: 2.129232\n",
      "Loss after iteration 200: 1.876095\n",
      "Loss after iteration 300: 1.604213\n",
      "Loss after iteration 400: 1.350205\n",
      "Loss after iteration 500: 1.144823\n",
      "Loss after iteration 600: 0.990554\n",
      "Loss after iteration 700: 0.876603\n",
      "Loss after iteration 800: 0.791154\n",
      "Loss after iteration 900: 0.725441\n",
      "Loss after iteration 1000: 0.673485\n",
      "Loss after iteration 1100: 0.631386\n",
      "Loss after iteration 1200: 0.596598\n",
      "Loss after iteration 1300: 0.567342\n",
      "Loss after iteration 1400: 0.542346\n",
      "Loss after iteration 1500: 0.520746\n",
      "Loss after iteration 1600: 0.501865\n",
      "Loss after iteration 1700: 0.485205\n",
      "Loss after iteration 1800: 0.470368\n",
      "Loss after iteration 1900: 0.457054\n"
     ]
    },
    {
     "data": {
      "image/png": "[encoded data removed]",
      "text/plain": [
       "<Figure size 432x288 with 1 Axes>"
      ]
     },
     "metadata": {
      "needs_background": "light"
     },
     "output_type": "display_data"
    }
   ],
   "source": [
    "parameters = L_layer_model(train_set_x_new, train_set_y_new, dimensions, num_iterations = 2000, print_loss = True)"
   ]
  },
  {
   "cell_type": "code",
   "execution_count": 41,
   "metadata": {},
   "outputs": [],
   "source": [
    "def predict(X, y, parameters):\n",
    "    \n",
    "    # Performs forward propogation using the trained parameters and calculates the accuracy\n",
    "    \n",
    "    m = X.shape[1]\n",
    "    n = len(parameters) // 2 # number of layers in the neural network\n",
    "    \n",
    "    # Forward propagation\n",
    "    probas, caches = L_layer_forward(X, parameters)\n",
    "    \n",
    "    p = np.argmax(probas, axis = 0)\n",
    "    act = np.argmax(y, axis = 0)\n",
    "\n",
    "    print(\"Accuracy: \"  + str(np.sum((p == act)/m)))\n",
    "        \n",
    "    return p"
   ]
  },
  {
   "cell_type": "markdown",
   "metadata": {},
   "source": [
    "Let's see the accuray we get on the training data."
   ]
  },
  {
   "cell_type": "code",
   "execution_count": 42,
   "metadata": {},
   "outputs": [
    {
     "name": "stdout",
     "output_type": "stream",
     "text": [
      "Accuracy: 0.8774000000000002\n"
     ]
    }
   ],
   "source": [
    "pred_train = predict(train_set_x_new, train_set_y_new, parameters)"
   ]
  },
  {
   "cell_type": "markdown",
   "metadata": {},
   "source": [
    "We get ~ 88% accuracy on the training data. Let's see the accuray on the test data."
   ]
  },
  {
   "cell_type": "code",
   "execution_count": 43,
   "metadata": {},
   "outputs": [
    {
     "name": "stdout",
     "output_type": "stream",
     "text": [
      "Accuracy: 0.8674000000000002\n"
     ]
    }
   ],
   "source": [
    "pred_test = predict(test_set_x, test_set_y, parameters)"
   ]
  },
  {
   "cell_type": "markdown",
   "metadata": {},
   "source": [
    "It is ~87%. You can train the model even longer and get better result. You can also try to change the network structure. \n",
    "<br>Below, you can see which all numbers are incorrectly identified by the neural network by changing the index."
   ]
  },
  {
   "cell_type": "code",
   "execution_count": 44,
   "metadata": {},
   "outputs": [
    {
     "data": {
      "text/plain": [
       "<matplotlib.image.AxesImage at 0x7f51de87aeb0>"
      ]
     },
     "execution_count": 44,
     "metadata": {},
     "output_type": "execute_result"
    },
    {
     "data": {
      "image/png": "[encoded data removed]",
      "text/plain": [
       "<Figure size 432x288 with 1 Axes>"
      ]
     },
     "metadata": {
      "needs_background": "light"
     },
     "output_type": "display_data"
    }
   ],
   "source": [
    "index  = 3474\n",
    "k = test_set_x[:,index]\n",
    "k = k.reshape((28, 28))\n",
    "plt.title('Label is {label}'.format(label=(pred_test[index], np.argmax(test_set_y, axis = 0)[index])))\n",
    "plt.imshow(k, cmap='gray')"
   ]
  },
  {
   "cell_type": "markdown",
   "metadata": {},
   "source": [
    "### This part of code appended by me will show the Incorrectly identified images count . Also what those images in the form of list of tuples. \n",
    "#### Each tuple has (index,Predicted digit,Actual Digit)"
   ]
  },
  {
   "cell_type": "code",
   "execution_count": 45,
   "metadata": {},
   "outputs": [
    {
     "name": "stdout",
     "output_type": "stream",
     "text": [
      "Total Number of images wrongly identified: 1326\n",
      "\n",
      "The following are the incorrectly identified imaages(each entry has Index in test data followed by PREDICTED & ACTUAL DIGITS:\n",
      " [(8, 6, 5), (18, 2, 3), (33, 6, 4), (46, 3, 1), (61, 2, 8), (63, 2, 3), (66, 2, 6), (73, 7, 9), (77, 7, 2), (87, 5, 3), (111, 1, 7), (121, 6, 4), (124, 9, 7), (156, 4, 6), (167, 4, 5), (172, 3, 2), (187, 3, 5), (191, 5, 1), (195, 1, 3), (217, 5, 6), (218, 7, 5), (219, 3, 5), (233, 7, 8), (235, 7, 9), (241, 8, 9), (243, 4, 7), (245, 6, 3), (247, 2, 4), (259, 0, 6), (261, 1, 5), (264, 5, 9), (289, 6, 5), (290, 4, 8), (291, 3, 2), (300, 1, 4), (304, 9, 4), (307, 9, 7), (313, 5, 3), (320, 1, 9), (321, 7, 2), (338, 0, 8), (340, 3, 5), (341, 4, 6), (344, 5, 8), (349, 7, 3), (352, 0, 5), (362, 3, 2), (363, 1, 2), (367, 8, 5), (376, 9, 4), (403, 9, 8), (405, 9, 4), (406, 0, 5), (412, 3, 5), (435, 7, 8), (443, 8, 0), (444, 8, 2), (445, 0, 6), (448, 8, 9), (449, 5, 3), (456, 3, 2), (457, 5, 6), (461, 4, 6), (464, 7, 3), (467, 7, 2), (468, 9, 7), (478, 8, 5), (479, 3, 9), (488, 7, 9), (497, 8, 4), (502, 3, 5), (507, 5, 3), (508, 5, 6), (511, 1, 4), (514, 2, 6), (515, 8, 3), (516, 4, 2), (523, 8, 1), (524, 5, 3), (528, 2, 3), (531, 6, 3), (536, 1, 2), (543, 9, 8), (551, 1, 7), (552, 5, 0), (553, 6, 8), (565, 9, 4), (569, 5, 3), (571, 9, 4), (578, 8, 3), (582, 2, 8), (591, 3, 8), (593, 7, 9), (595, 5, 3), (605, 9, 7), (606, 3, 8), (613, 8, 2), (619, 8, 1), (624, 8, 2), (628, 9, 3), (629, 6, 2), (630, 4, 9), (638, 7, 5), (646, 6, 2), (658, 4, 7), (659, 9, 2), (661, 8, 0), (667, 1, 7), (684, 2, 7), (689, 9, 7), (691, 4, 8), (692, 7, 5), (707, 9, 4), (717, 4, 0), (720, 2, 5), (728, 8, 2), (734, 5, 3), (738, 8, 2), (740, 9, 4), (741, 8, 2), (760, 9, 4), (781, 5, 8), (791, 9, 5), (795, 6, 3), (800, 5, 8), (804, 2, 0), (827, 9, 4), (829, 8, 4), (837, 8, 2), (839, 3, 8), (844, 7, 8), (857, 3, 5), (870, 8, 6), (877, 2, 8), (881, 9, 4), (882, 7, 9), (890, 5, 3), (893, 7, 9), (894, 2, 3), (898, 2, 7), (900, 3, 1), (902, 9, 4), (924, 7, 2), (930, 1, 7), (939, 0, 2), (944, 8, 3), (947, 9, 8), (950, 2, 7), (952, 4, 6), (956, 6, 1), (959, 5, 4), (960, 1, 7), (965, 0, 6), (975, 3, 2), (982, 8, 3), (985, 8, 2), (994, 8, 1), (998, 9, 8), (999, 7, 9), (1000, 7, 9), (1012, 9, 7), (1014, 0, 6), (1017, 4, 6), (1022, 9, 5), (1028, 5, 3), (1032, 8, 5), (1050, 6, 2), (1062, 7, 3), (1068, 4, 8), (1081, 4, 9), (1082, 3, 5), (1086, 4, 9), (1091, 2, 7), (1096, 9, 7), (1107, 3, 9), (1112, 6, 4), (1114, 8, 3), (1117, 3, 7), (1119, 8, 7), (1125, 9, 8), (1128, 7, 3), (1146, 8, 5), (1147, 9, 4), (1153, 5, 6), (1159, 8, 4), (1173, 9, 7), (1181, 1, 6), (1182, 8, 6), (1185, 9, 8), (1192, 4, 9), (1194, 9, 7), (1198, 4, 8), (1200, 3, 8), (1204, 9, 3), (1206, 8, 7), (1208, 9, 3), (1217, 7, 9), (1224, 6, 2), (1226, 1, 7), (1233, 6, 5), (1234, 5, 8), (1242, 9, 4), (1247, 0, 9), (1248, 6, 8), (1251, 6, 2), (1256, 3, 2), (1260, 1, 7), (1263, 9, 4), (1266, 4, 6), (1267, 9, 8), (1269, 6, 2), (1270, 9, 4), (1272, 4, 5), (1283, 2, 7), (1291, 5, 3), (1299, 7, 5), (1310, 7, 3), (1312, 9, 8), (1315, 5, 3), (1319, 3, 8), (1325, 4, 8), (1326, 2, 7), (1327, 4, 9), (1328, 9, 7), (1330, 9, 4), (1331, 8, 5), (1337, 6, 2), (1345, 6, 2), (1347, 9, 7), (1362, 4, 6), (1364, 2, 8), (1375, 8, 2), (1383, 6, 3), (1384, 1, 3), (1391, 9, 4), (1393, 3, 5), (1402, 7, 2), (1404, 8, 0), (1410, 6, 2), (1413, 9, 4), (1414, 4, 9), (1421, 4, 5), (1429, 4, 9), (1431, 3, 2), (1433, 1, 8), (1444, 2, 6), (1453, 9, 4), (1454, 5, 0), (1464, 3, 8), (1465, 1, 4), (1466, 3, 5), (1467, 9, 5), (1469, 2, 3), (1476, 0, 5), (1500, 1, 7), (1512, 4, 9), (1514, 8, 2), (1522, 9, 7), (1525, 0, 5), (1526, 5, 0), (1527, 6, 1), (1530, 7, 8), (1549, 6, 4), (1551, 1, 2), (1553, 8, 9), (1554, 7, 9), (1559, 7, 9), (1569, 2, 6), (1581, 9, 7), (1587, 5, 6), (1590, 5, 0), (1596, 4, 9), (1609, 4, 2), (1611, 2, 3), (1616, 0, 6), (1621, 6, 0), (1627, 7, 9), (1634, 7, 4), (1640, 4, 9), (1641, 0, 5), (1644, 8, 2), (1658, 3, 2), (1671, 5, 7), (1678, 7, 2), (1681, 7, 3), (1684, 3, 5), (1691, 8, 1), (1695, 7, 9), (1696, 1, 2), (1709, 3, 9), (1716, 1, 7), (1717, 0, 8), (1718, 9, 7), (1722, 6, 2), (1727, 7, 3), (1737, 2, 5), (1741, 1, 7), (1751, 3, 4), (1754, 2, 7), (1755, 3, 5), (1759, 6, 8), (1765, 5, 3), (1772, 4, 7), (1774, 5, 8), (1782, 9, 8), (1785, 8, 1), (1790, 7, 2), (1798, 5, 3), (1800, 4, 6), (1813, 5, 8), (1819, 0, 6), (1822, 4, 6), (1839, 3, 2), (1842, 8, 2), (1850, 7, 8), (1857, 4, 6), (1868, 4, 1), (1878, 3, 8), (1882, 9, 8), (1893, 2, 8), (1900, 8, 1), (1901, 8, 9), (1917, 8, 5), (1926, 5, 3), (1930, 4, 2), (1933, 2, 7), (1938, 6, 4), (1942, 4, 8), (1948, 4, 5), (1952, 8, 9), (1954, 4, 5), (1968, 1, 8), (1970, 3, 5), (1973, 5, 8), (1981, 4, 6), (1982, 5, 6), (1984, 0, 2), (1993, 8, 1), (2001, 9, 5), (2005, 2, 4), (2009, 2, 9), (2016, 2, 7), (2024, 9, 7), (2035, 3, 5), (2037, 6, 5), (2040, 4, 5), (2043, 8, 4), (2044, 7, 2), (2047, 0, 6), (2053, 9, 4), (2057, 2, 6), (2068, 4, 9), (2070, 9, 7), (2093, 1, 8), (2098, 0, 2), (2099, 9, 8), (2105, 5, 3), (2107, 5, 8), (2109, 7, 3), (2110, 8, 2), (2115, 0, 7), (2118, 3, 6), (2125, 8, 5), (2129, 8, 9), (2130, 9, 4), (2134, 4, 5), (2135, 1, 6), (2138, 8, 2), (2145, 2, 4), (2149, 9, 8), (2151, 5, 3), (2168, 2, 8), (2182, 3, 1), (2183, 6, 4), (2185, 8, 0), (2186, 5, 2), (2189, 1, 9), (2192, 3, 5), (2197, 1, 4), (2201, 9, 4), (2208, 3, 8), (2214, 2, 5), (2215, 2, 6), (2216, 4, 9), (2218, 9, 4), (2224, 6, 5), (2266, 6, 1), (2269, 1, 2), (2272, 0, 8), (2279, 3, 5), (2282, 3, 5), (2293, 6, 9), (2298, 3, 8), (2299, 7, 2), (2300, 5, 3), (2305, 8, 3), (2309, 5, 8), (2319, 6, 4), (2320, 5, 9), (2322, 3, 5), (2325, 2, 7), (2331, 4, 6), (2342, 4, 9), (2351, 0, 3), (2362, 1, 8), (2369, 4, 5), (2370, 2, 0), (2380, 0, 9), (2381, 9, 8), (2382, 2, 8), (2386, 9, 4), (2387, 5, 9), (2393, 3, 8), (2394, 9, 4), (2395, 3, 8), (2406, 8, 9), (2408, 7, 3), (2413, 0, 5), (2422, 4, 6), (2425, 3, 8), (2429, 8, 2), (2433, 1, 2), (2439, 3, 2), (2445, 4, 5), (2447, 9, 4), (2449, 5, 0), (2460, 8, 5), (2464, 9, 4), (2475, 8, 2), (2488, 4, 2), (2513, 2, 7), (2516, 2, 9), (2525, 3, 5), (2526, 3, 5), (2528, 4, 9), (2534, 5, 3), (2535, 2, 6), (2542, 0, 6), (2556, 2, 5), (2559, 3, 5), (2560, 2, 3), (2573, 8, 5), (2574, 7, 5), (2578, 2, 7), (2594, 5, 3), (2598, 2, 8), (2604, 3, 5), (2607, 8, 7), (2609, 4, 6), (2610, 8, 2), (2616, 8, 5), (2628, 2, 7), (2631, 6, 0), (2642, 9, 7), (2648, 0, 9), (2654, 1, 6), (2658, 8, 4), (2665, 2, 7), (2670, 8, 5), (2684, 1, 3), (2695, 4, 7), (2705, 8, 1), (2711, 2, 6), (2713, 8, 0), (2728, 2, 6), (2730, 1, 7), (2740, 7, 9), (2743, 8, 5), (2750, 5, 6), (2751, 0, 6), (2756, 2, 3), (2758, 5, 8), (2770, 5, 3), (2771, 9, 4), (2780, 3, 2), (2801, 2, 6), (2802, 0, 2), (2805, 9, 5), (2810, 0, 5), (2818, 9, 4), (2820, 2, 7), (2825, 8, 1), (2830, 4, 6), (2832, 3, 5), (2834, 5, 8), (2836, 9, 4), (2850, 3, 5), (2857, 7, 9), (2866, 4, 6), (2877, 9, 4), (2896, 0, 8), (2902, 8, 1), (2905, 1, 8), (2906, 5, 3), (2907, 9, 4), (2911, 2, 8), (2914, 8, 3), (2919, 4, 5), (2925, 6, 5), (2927, 2, 3), (2945, 7, 3), (2946, 8, 1), (2953, 5, 3), (2957, 8, 5), (2969, 8, 5), (2977, 3, 2), (2990, 7, 8), (2994, 4, 6), (2995, 8, 6), (3005, 1, 9), (3033, 0, 6), (3060, 7, 9), (3061, 2, 7), (3069, 2, 4), (3073, 3, 1), (3078, 8, 3), (3100, 8, 5), (3102, 3, 5), (3114, 6, 4), (3117, 9, 5), (3123, 9, 4), (3124, 3, 1), (3130, 0, 6), (3133, 9, 4), (3136, 1, 7), (3138, 0, 3), (3145, 9, 5), (3146, 5, 3), (3151, 1, 2), (3157, 0, 5), (3160, 4, 9), (3166, 9, 7), (3167, 1, 3), (3171, 8, 5), (3176, 7, 2), (3183, 8, 5), (3189, 4, 7), (3193, 8, 3), (3206, 3, 8), (3218, 5, 6), (3222, 2, 6), (3224, 5, 8), (3225, 1, 7), (3233, 9, 4), (3240, 3, 9), (3243, 5, 0), (3245, 1, 8), (3252, 5, 6), (3254, 5, 6), (3269, 0, 6), (3280, 3, 2), (3284, 7, 8), (3288, 9, 4), (3289, 7, 8), (3305, 5, 0), (3316, 4, 7), (3319, 7, 8), (3324, 3, 8), (3329, 2, 7), (3330, 3, 2), (3333, 9, 7), (3336, 9, 5), (3338, 4, 9), (3344, 8, 6), (3358, 5, 0), (3369, 1, 9), (3381, 8, 3), (3384, 6, 2), (3388, 9, 4), (3392, 4, 9), (3394, 7, 9), (3404, 2, 9), (3405, 9, 4), (3414, 3, 5), (3422, 0, 6), (3429, 9, 4), (3436, 7, 2), (3437, 9, 4), (3447, 4, 6), (3448, 5, 3), (3450, 5, 0), (3460, 2, 9), (3472, 4, 9), (3476, 8, 3), (3479, 5, 0), (3490, 3, 4), (3494, 1, 7), (3503, 5, 9), (3510, 3, 2), (3511, 7, 2), (3519, 3, 8), (3520, 4, 6), (3525, 2, 7), (3547, 3, 2), (3549, 8, 3), (3557, 5, 6), (3558, 0, 5), (3563, 5, 8), (3567, 5, 8), (3573, 2, 7), (3578, 6, 2), (3580, 1, 7), (3597, 3, 9), (3598, 8, 1), (3599, 3, 2), (3600, 8, 2), (3604, 4, 7), (3626, 1, 8), (3629, 3, 8), (3645, 7, 5), (3662, 5, 8), (3664, 4, 9), (3681, 3, 2), (3685, 2, 4), (3709, 7, 9), (3716, 3, 9), (3718, 9, 4), (3725, 4, 6), (3726, 9, 4), (3727, 5, 8), (3730, 9, 7), (3732, 1, 8), (3738, 0, 3), (3748, 5, 6), (3751, 6, 7), (3752, 6, 4), (3755, 8, 9), (3756, 3, 5), (3757, 3, 8), (3763, 4, 5), (3767, 2, 7), (3769, 9, 3), (3776, 8, 5), (3780, 6, 4), (3782, 2, 8), (3791, 7, 9), (3796, 8, 2), (3801, 0, 6), (3806, 9, 5), (3808, 3, 7), (3810, 3, 5), (3811, 3, 2), (3817, 6, 2), (3820, 2, 9), (3821, 4, 9), (3833, 1, 8), (3835, 2, 6), (3836, 9, 7), (3838, 1, 7), (3839, 8, 2), (3846, 2, 6), (3848, 3, 7), (3850, 4, 9), (3853, 5, 6), (3862, 3, 2), (3869, 4, 9), (3876, 8, 2), (3879, 0, 9), (3884, 2, 9), (3885, 7, 9), (3893, 6, 5), (3902, 3, 5), (3906, 3, 1), (3909, 3, 2), (3926, 3, 9), (3929, 8, 5), (3941, 6, 4), (3943, 5, 3), (3946, 1, 2), (3952, 3, 5), (3954, 9, 8), (3961, 5, 6), (3962, 6, 3), (3965, 5, 3), (3976, 1, 7), (3984, 1, 9), (3985, 4, 9), (3986, 1, 2), (3988, 5, 8), (3994, 7, 5), (3998, 6, 4), (4000, 4, 9), (4002, 5, 3), (4007, 9, 7), (4013, 5, 1), (4017, 9, 4), (4027, 9, 7), (4044, 0, 3), (4052, 3, 5), (4059, 8, 5), (4063, 5, 6), (4065, 6, 0), (4068, 3, 8), (4072, 3, 5), (4075, 0, 8), (4078, 2, 9), (4080, 8, 0), (4086, 6, 8), (4093, 4, 9), (4108, 7, 5), (4111, 2, 9), (4131, 3, 5), (4139, 4, 6), (4140, 2, 8), (4141, 9, 8), (4145, 5, 8), (4152, 1, 5), (4156, 8, 2), (4159, 3, 8), (4163, 0, 9), (4173, 4, 2), (4176, 7, 2), (4199, 9, 7), (4201, 5, 1), (4203, 4, 6), (4205, 1, 2), (4211, 5, 6), (4212, 3, 1), (4215, 9, 7), (4224, 7, 9), (4228, 2, 7), (4238, 9, 7), (4239, 5, 6), (4248, 8, 2), (4254, 3, 5), (4255, 0, 5), (4256, 0, 3), (4260, 3, 2), (4261, 4, 5), (4269, 2, 4), (4272, 4, 9), (4284, 3, 9), (4289, 7, 2), (4293, 4, 9), (4297, 1, 7), (4300, 8, 5), (4301, 0, 9), (4302, 1, 5), (4306, 7, 3), (4313, 9, 4), (4315, 8, 5), (4317, 7, 3), (4325, 7, 9), (4330, 8, 5), (4341, 3, 2), (4344, 7, 9), (4356, 8, 5), (4358, 7, 9), (4359, 7, 5), (4374, 6, 5), (4380, 5, 8), (4395, 2, 6), (4397, 5, 3), (4405, 4, 9), (4408, 2, 9), (4419, 5, 8), (4422, 3, 5), (4423, 9, 7), (4433, 4, 7), (4435, 7, 3), (4440, 3, 5), (4449, 0, 6), (4451, 8, 2), (4455, 5, 8), (4477, 6, 0), (4491, 8, 1), (4497, 7, 8), (4498, 8, 7), (4500, 3, 9), (4504, 0, 2), (4521, 7, 2), (4523, 3, 8), (4540, 8, 7), (4546, 8, 2), (4560, 4, 9), (4567, 9, 4), (4571, 2, 6), (4573, 3, 2), (4575, 2, 4), (4577, 8, 5), (4583, 8, 5), (4594, 3, 2), (4601, 4, 8), (4615, 4, 2), (4618, 0, 6), (4639, 9, 8), (4640, 3, 8), (4662, 4, 9), (4665, 5, 9), (4666, 8, 2), (4681, 4, 9), (4686, 0, 6), (4699, 8, 6), (4703, 5, 3), (4712, 9, 5), (4721, 9, 4), (4722, 7, 5), (4724, 0, 8), (4731, 7, 8), (4735, 4, 9), (4736, 2, 7), (4740, 7, 3), (4743, 6, 8), (4751, 6, 4), (4761, 1, 9), (4777, 1, 8), (4785, 8, 3), (4794, 9, 7), (4798, 5, 6), (4807, 3, 8), (4808, 5, 3), (4812, 1, 2), (4814, 0, 6), (4816, 6, 2), (4819, 5, 0), (4820, 3, 8), (4823, 6, 9), (4826, 9, 4), (4829, 3, 8), (4837, 1, 7), (4838, 5, 6), (4839, 2, 8), (4852, 6, 8), (4863, 9, 8), (4874, 0, 9), (4876, 6, 2), (4879, 6, 8), (4880, 5, 0), (4882, 2, 6), (4886, 1, 7), (4887, 8, 0), (4888, 0, 5), (4890, 6, 8), (4910, 4, 9), (4915, 8, 5), (4923, 5, 0), (4939, 3, 2), (4942, 3, 5), (4950, 3, 2), (4952, 5, 6), (4956, 4, 8), (4966, 1, 7), (4968, 7, 9), (4969, 3, 2), (4978, 7, 8), (4990, 8, 3), (4995, 3, 2), (4998, 9, 4), (5001, 4, 9), (5009, 4, 9), (5015, 4, 9), (5038, 2, 3), (5046, 2, 3), (5054, 5, 3), (5056, 8, 5), (5067, 2, 3), (5068, 1, 4), (5078, 2, 3), (5083, 8, 5), (5100, 4, 9), (5103, 5, 8), (5134, 6, 5), (5135, 4, 9), (5138, 5, 8), (5140, 2, 3), (5143, 2, 3), (5176, 4, 8), (5212, 8, 3), (5217, 8, 2), (5237, 8, 3), (5239, 9, 4), (5246, 2, 7), (5268, 8, 9), (5278, 9, 8), (5298, 5, 8), (5311, 7, 9), (5331, 6, 1), (5360, 9, 8), (5380, 9, 8), (5382, 5, 3), (5457, 8, 1), (5469, 2, 6), (5495, 3, 8), (5522, 3, 8), (5525, 9, 4), (5560, 9, 7), (5562, 8, 2), (5569, 3, 8), (5577, 9, 4), (5601, 4, 8), (5611, 6, 8), (5613, 6, 0), (5617, 9, 4), (5619, 4, 6), (5620, 9, 7), (5623, 0, 3), (5634, 3, 2), (5642, 8, 1), (5647, 5, 8), (5649, 9, 7), (5653, 6, 0), (5662, 3, 5), (5673, 5, 0), (5677, 6, 4), (5678, 5, 8), (5681, 4, 6), (5688, 9, 7), (5690, 4, 6), (5695, 5, 0), (5702, 4, 6), (5712, 4, 6), (5714, 9, 7), (5715, 4, 6), (5717, 8, 2), (5734, 7, 3), (5735, 3, 5), (5749, 2, 8), (5754, 7, 9), (5757, 7, 9), (5769, 8, 5), (5800, 7, 9), (5801, 0, 6), (5821, 3, 5), (5824, 9, 3), (5826, 4, 6), (5835, 9, 7), (5842, 9, 4), (5843, 0, 5), (5851, 9, 4), (5852, 3, 5), (5862, 3, 5), (5866, 9, 7), (5867, 3, 5), (5874, 3, 5), (5887, 0, 7), (5888, 0, 4), (5890, 5, 0), (5891, 6, 5), (5897, 7, 9), (5912, 0, 3), (5913, 3, 5), (5916, 4, 6), (5922, 0, 5), (5923, 9, 4), (5926, 9, 4), (5936, 9, 4), (5943, 8, 1), (5948, 4, 6), (5955, 5, 3), (5957, 3, 5), (5958, 4, 6), (5961, 7, 9), (5969, 9, 4), (5972, 3, 5), (5973, 8, 3), (5978, 3, 1), (5981, 3, 5), (5982, 3, 5), (5985, 8, 5), (6002, 4, 6), (6004, 9, 8), (6005, 5, 1), (6008, 3, 1), (6020, 4, 6), (6024, 9, 8), (6035, 0, 2), (6038, 4, 6), (6042, 3, 5), (6059, 8, 3), (6065, 8, 3), (6071, 5, 9), (6075, 5, 3), (6081, 5, 9), (6091, 5, 9), (6093, 8, 2), (6103, 5, 3), (6109, 1, 2), (6111, 8, 2), (6112, 5, 9), (6124, 0, 9), (6157, 5, 9), (6166, 5, 9), (6168, 5, 9), (6172, 5, 9), (6173, 5, 9), (6174, 5, 3), (6304, 3, 8), (6324, 6, 5), (6347, 6, 8), (6370, 2, 3), (6385, 2, 5), (6391, 6, 2), (6392, 2, 5), (6400, 6, 0), (6418, 4, 2), (6421, 2, 3), (6425, 2, 6), (6432, 8, 3), (6434, 9, 7), (6458, 9, 7), (6480, 6, 2), (6495, 5, 8), (6505, 0, 9), (6517, 0, 3), (6523, 9, 8), (6555, 7, 8), (6560, 4, 9), (6568, 4, 9), (6569, 9, 3), (6571, 7, 9), (6573, 3, 5), (6574, 6, 2), (6577, 1, 7), (6597, 7, 0), (6598, 6, 5), (6603, 9, 8), (6608, 4, 9), (6610, 4, 9), (6613, 4, 6), (6615, 4, 6), (6625, 4, 8), (6627, 4, 9), (6632, 8, 9), (6641, 5, 8), (6642, 5, 9), (6643, 3, 0), (6645, 8, 2), (6650, 4, 9), (6651, 2, 0), (6661, 8, 1), (6668, 0, 6), (6688, 8, 1), (6691, 0, 6), (6694, 2, 1), (6706, 7, 5), (6716, 2, 5), (6721, 6, 2), (6725, 6, 8), (6739, 9, 3), (6740, 0, 9), (6744, 6, 2), (6746, 4, 5), (6765, 6, 8), (6768, 8, 7), (6775, 1, 5), (6782, 0, 6), (6784, 4, 9), (6785, 6, 2), (6788, 4, 5), (6793, 4, 9), (6796, 7, 2), (6814, 4, 6), (6827, 5, 9), (6846, 4, 6), (6847, 4, 6), (6864, 3, 8), (6870, 4, 9), (6878, 6, 2), (6885, 6, 2), (6886, 6, 5), (6895, 7, 9), (6899, 8, 5), (6905, 8, 9), (6906, 6, 2), (6909, 9, 5), (6912, 6, 2), (6914, 5, 9), (6919, 7, 9), (6926, 4, 6), (6945, 9, 8), (6981, 6, 5), (6990, 9, 4), (7002, 8, 2), (7043, 7, 9), (7054, 7, 2), (7094, 9, 8), (7121, 9, 8), (7127, 9, 8), (7130, 9, 3), (7143, 9, 8), (7182, 7, 9), (7195, 7, 5), (7198, 2, 8), (7210, 8, 6), (7212, 4, 2), (7235, 9, 2), (7240, 4, 5), (7241, 1, 5), (7248, 7, 3), (7249, 7, 2), (7259, 7, 8), (7265, 3, 8), (7268, 9, 7), (7304, 3, 5), (7338, 9, 4), (7365, 8, 3), (7391, 9, 4), (7394, 8, 4), (7403, 8, 5), (7432, 2, 7), (7433, 2, 8), (7434, 8, 4), (7436, 8, 3), (7447, 2, 1), (7451, 6, 5), (7459, 5, 9), (7473, 8, 4), (7490, 2, 7), (7492, 7, 2), (7498, 3, 5), (7511, 7, 5), (7518, 8, 2), (7521, 4, 5), (7531, 6, 5), (7539, 8, 2), (7541, 4, 5), (7542, 4, 5), (7545, 9, 8), (7571, 4, 9), (7579, 4, 9), (7587, 8, 2), (7637, 3, 2), (7673, 8, 5), (7676, 8, 5), (7736, 1, 9), (7779, 2, 5), (7786, 7, 9), (7797, 2, 5), (7800, 2, 3), (7809, 6, 5), (7821, 2, 3), (7826, 8, 5), (7842, 6, 5), (7847, 8, 1), (7849, 2, 3), (7850, 6, 5), (7851, 0, 6), (7856, 8, 1), (7857, 4, 2), (7858, 2, 3), (7859, 6, 5), (7860, 0, 6), (7870, 7, 5), (7876, 9, 2), (7886, 4, 2), (7888, 8, 5), (7899, 8, 1), (7900, 8, 1), (7905, 2, 3), (7917, 4, 2), (7918, 2, 5), (7928, 8, 1), (7945, 6, 2), (7946, 2, 3), (7951, 9, 8), (7991, 7, 9), (8020, 8, 1), (8044, 7, 9), (8061, 9, 4), (8072, 3, 5), (8081, 6, 4), (8091, 8, 2), (8094, 8, 2), (8095, 6, 4), (8115, 5, 3), (8165, 4, 2), (8170, 4, 5), (8196, 0, 6), (8198, 4, 2), (8244, 2, 1), (8245, 7, 2), (8246, 5, 3), (8254, 5, 3), (8268, 8, 1), (8272, 5, 3), (8276, 8, 4), (8277, 5, 3), (8279, 7, 8), (8288, 4, 9), (8294, 5, 8), (8297, 5, 8), (8308, 5, 3), (8324, 8, 1), (8327, 7, 5), (8339, 6, 8), (8353, 4, 2), (8383, 4, 9), (8405, 9, 8), (8408, 6, 8), (8410, 6, 8), (8426, 7, 9), (8444, 4, 5), (8476, 5, 8), (8489, 2, 3), (8520, 9, 4), (8522, 6, 8), (8523, 4, 9), (8530, 5, 8), (8553, 3, 5), (8571, 0, 5), (8584, 0, 2), (8615, 3, 2), (8639, 3, 2), (8665, 0, 5), (8722, 5, 8), (8735, 9, 8), (8889, 0, 2), (8952, 9, 3), (9005, 8, 1), (9006, 8, 2), (9007, 8, 3), (9009, 2, 7), (9010, 8, 2), (9013, 6, 5), (9015, 2, 7), (9017, 8, 1), (9019, 2, 7), (9023, 4, 9), (9024, 2, 7), (9026, 4, 9), (9036, 2, 7), (9043, 3, 2), (9044, 2, 7), (9045, 2, 7), (9071, 8, 1), (9073, 5, 3), (9103, 6, 4), (9112, 8, 1), (9139, 5, 8), (9141, 9, 7), (9161, 5, 8), (9209, 8, 2), (9211, 9, 4), (9225, 8, 2), (9268, 7, 5), (9280, 5, 8), (9316, 3, 8), (9317, 4, 6), (9416, 4, 9), (9433, 6, 8), (9446, 6, 2), (9465, 3, 5), (9478, 3, 5), (9482, 3, 5), (9514, 4, 6), (9530, 1, 9), (9534, 9, 7), (9535, 3, 2), (9538, 9, 4), (9560, 8, 7), (9564, 2, 8), (9587, 4, 9), (9595, 8, 2), (9596, 5, 8), (9612, 2, 1), (9614, 5, 3), (9617, 0, 6), (9619, 9, 8), (9624, 8, 3), (9627, 5, 6), (9634, 3, 0), (9642, 7, 9), (9649, 8, 1), (9651, 1, 5), (9655, 7, 3), (9664, 7, 2), (9666, 3, 0), (9679, 0, 6), (9687, 3, 0), (9700, 6, 2), (9716, 0, 2), (9719, 0, 5), (9726, 0, 2), (9729, 6, 5), (9731, 9, 7), (9732, 5, 8), (9735, 1, 4), (9744, 1, 8), (9745, 2, 4), (9752, 0, 2), (9755, 5, 8), (9768, 0, 2), (9770, 0, 5), (9777, 0, 5), (9779, 5, 2), (9780, 1, 8), (9792, 1, 4), (9794, 2, 6), (9808, 4, 9), (9811, 8, 2), (9818, 5, 0), (9826, 5, 0), (9832, 8, 2), (9839, 7, 2), (9847, 3, 2), (9855, 8, 2), (9856, 5, 9), (9858, 1, 6), (9865, 5, 0), (9867, 8, 2), (9874, 8, 2), (9875, 9, 8), (9879, 8, 0), (9880, 8, 2), (9883, 1, 5), (9885, 5, 0), (9888, 8, 6), (9890, 4, 9), (9893, 8, 2), (9904, 5, 2), (9905, 9, 3), (9925, 8, 3), (9936, 5, 8), (9937, 3, 2), (9940, 0, 6), (9941, 6, 5), (9943, 5, 3), (9944, 9, 3), (9953, 0, 6), (9959, 3, 8), (9962, 5, 0), (9970, 3, 5), (9975, 2, 3), (9982, 2, 5), (9985, 8, 2), (9992, 4, 9)]\n"
     ]
    }
   ],
   "source": [
    "Incorrect=[]\n",
    "for i in range(0,10000):\n",
    "    index  = i\n",
    "    #t=()\n",
    "    k = test_set_x[:,index]\n",
    "    k = k.reshape((28, 28))\n",
    "    if (pred_test[index] !=np.argmax(test_set_y, axis = 0)[index]): \n",
    "        t=(index,pred_test[index],np.argmax(test_set_y, axis = 0)[index])\n",
    "        Incorrect.append(t) \n",
    "        \n",
    "print(\"Total Number of images wrongly identified:\",len(Incorrect))\n",
    "print(\"\\nThe following are the incorrectly identified imaages(each entry has Index in test data followed by PREDICTED & ACTUAL DIGITS:\\n\",Incorrect)"
   ]
  }
 ],
 "metadata": {
  "kernelspec": {
   "display_name": "Python 3",
   "language": "python",
   "name": "python3"
  },
  "language_info": {
   "codemirror_mode": {
    "name": "ipython",
    "version": 3
   },
   "file_extension": ".py",
   "mimetype": "text/x-python",
   "name": "python",
   "nbconvert_exporter": "python",
   "pygments_lexer": "ipython3",
   "version": "3.8.3"
  }
 },
 "nbformat": 4,
 "nbformat_minor": 2
}
